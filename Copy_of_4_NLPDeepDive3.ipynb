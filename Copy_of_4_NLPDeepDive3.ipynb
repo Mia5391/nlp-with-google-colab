{
  "nbformat": 4,
  "nbformat_minor": 0,
  "metadata": {
    "colab": {
      "name": "Copy of 4_NLPDeepDive3.ipynb",
      "provenance": [],
      "collapsed_sections": [],
      "include_colab_link": true
    },
    "kernelspec": {
      "name": "python3",
      "display_name": "Python 3"
    },
    "accelerator": "GPU"
  },
  "cells": [
    {
      "cell_type": "markdown",
      "metadata": {
        "id": "view-in-github",
        "colab_type": "text"
      },
      "source": [
        "<a href=\"https://colab.research.google.com/github/Mia5391/nlp-with-google-colab/blob/master/Copy_of_4_NLPDeepDive3.ipynb\" target=\"_parent\"><img src=\"https://colab.research.google.com/assets/colab-badge.svg\" alt=\"Open In Colab\"/></a>"
      ]
    },
    {
      "cell_type": "markdown",
      "metadata": {
        "id": "TrD-sp4BKDc0",
        "colab_type": "text"
      },
      "source": [
        "## **Intro to NLP (Natural Language Processing): Week 4 - Deep Dive 3**\n",
        "\n",
        "Code implementations for below topics using gensim, nltk, spacy:\n",
        "\n",
        "1. Google pre-trained word2vec model exploration using gensim, nltk\n",
        "2. Build Document similarity model using pre-trainedd word2vec model using gensim \n",
        "3. Train own word2vec model using news dataset using gensim, nltk\n",
        "4. Implememtattion of gloVe model using SpaCy\n",
        "\n",
        "Dataset Link - https://www.kaggle.com/snapcrack/all-the-news\n",
        "\n",
        "Dataset Name - articles1.csv (50,000 news articles)\n",
        "\n",
        "Dataset Description - News articles from 5 American publications\n",
        "\n",
        "\n",
        "**Steps to access, download, and use the Kaggle dataset:**\n",
        "\n",
        "1. Access the above link to kaggle, click on \"Data\" tab and download \"articles1.csv(194.11 MB)\" the dataset.\n",
        "2. Once downloaded, click on the file to unzip it\n",
        "3. Save the file in a folder easily accessible - E.g. \"Documents\"\n",
        "4. Open a Google Colab Notebook\n",
        "5. In the left pane of  the Google Colab, click on \"Files\" and select the upload icon (Icon hover text: \"Upload to session storage\")\n",
        "6. You are ready to start using the data in the Colab Notebook.\n",
        "\n",
        "Data location within Colab: '/content/articles1.csv'"
      ]
    },
    {
      "cell_type": "markdown",
      "metadata": {
        "id": "Yq5XGHzUck_r",
        "colab_type": "text"
      },
      "source": [
        "**Steps to download the pre-trained Google News word2vec model (will take a while)**\n",
        "\n",
        "1. Click and dowload with this link - https://s3.amazonaws.com/dl4j-distribution/GoogleNews-vectors-negative300.bin.gz\n",
        "2. OR run the below code in the command line\n",
        "\n",
        "```\n",
        "!wget -P /content/ -c \"https://s3.amazonaws.com/dl4j-distribution/GoogleNews-vectors-negative300.bin.gz\"\n",
        "```\n",
        "*Connect back with me WWCode #nlp channel if you have trouble loading this model"
      ]
    },
    {
      "cell_type": "markdown",
      "metadata": {
        "id": "u1IO-iX40Adm",
        "colab_type": "text"
      },
      "source": [
        "### **Downloading the google word2vec model**"
      ]
    },
    {
      "cell_type": "code",
      "metadata": {
        "id": "ixKuZhNkiwfX",
        "colab_type": "code",
        "colab": {
          "base_uri": "https://localhost:8080/",
          "height": 204
        },
        "outputId": "8f3421fe-95aa-443c-fa86-74f8c316a9db"
      },
      "source": [
        "!wget -P /content/ -c \"https://s3.amazonaws.com/dl4j-distribution/GoogleNews-vectors-negative300.bin.gz\""
      ],
      "execution_count": 1,
      "outputs": [
        {
          "output_type": "stream",
          "text": [
            "--2020-08-01 19:26:16--  https://s3.amazonaws.com/dl4j-distribution/GoogleNews-vectors-negative300.bin.gz\n",
            "Resolving s3.amazonaws.com (s3.amazonaws.com)... 52.216.248.126\n",
            "Connecting to s3.amazonaws.com (s3.amazonaws.com)|52.216.248.126|:443... connected.\n",
            "HTTP request sent, awaiting response... 200 OK\n",
            "Length: 1647046227 (1.5G) [application/x-gzip]\n",
            "Saving to: ‘/content/GoogleNews-vectors-negative300.bin.gz’\n",
            "\n",
            "GoogleNews-vectors- 100%[===================>]   1.53G  95.4MB/s    in 16s     \n",
            "\n",
            "2020-08-01 19:26:33 (95.5 MB/s) - ‘/content/GoogleNews-vectors-negative300.bin.gz’ saved [1647046227/1647046227]\n",
            "\n"
          ],
          "name": "stdout"
        }
      ]
    },
    {
      "cell_type": "markdown",
      "metadata": {
        "id": "Sz_N4PE5OcEL",
        "colab_type": "text"
      },
      "source": [
        "#### **How to check which folder the google colab is located in?**"
      ]
    },
    {
      "cell_type": "code",
      "metadata": {
        "id": "DZhMzkS9OnUC",
        "colab_type": "code",
        "colab": {
          "base_uri": "https://localhost:8080/",
          "height": 35
        },
        "outputId": "4cce645d-ccd2-40ac-fe3b-0897e011c1f6"
      },
      "source": [
        "pwd"
      ],
      "execution_count": 2,
      "outputs": [
        {
          "output_type": "execute_result",
          "data": {
            "application/vnd.google.colaboratory.intrinsic+json": {
              "type": "string"
            },
            "text/plain": [
              "'/content'"
            ]
          },
          "metadata": {
            "tags": []
          },
          "execution_count": 2
        }
      ]
    },
    {
      "cell_type": "markdown",
      "metadata": {
        "id": "b5hCAxpmOpn7",
        "colab_type": "text"
      },
      "source": [
        "#### **Now that we know which folder, how to see if the data we loaded in Step 5 above is correctly loaded or not?**"
      ]
    },
    {
      "cell_type": "code",
      "metadata": {
        "id": "p-LzKT5-O_5K",
        "colab_type": "code",
        "colab": {
          "base_uri": "https://localhost:8080/",
          "height": 34
        },
        "outputId": "5041f2fa-f61c-4bbb-e001-6be536303d63"
      },
      "source": [
        "ls"
      ],
      "execution_count": 3,
      "outputs": [
        {
          "output_type": "stream",
          "text": [
            "articles1.csv  GoogleNews-vectors-negative300.bin.gz  \u001b[0m\u001b[01;34msample_data\u001b[0m/\n"
          ],
          "name": "stdout"
        }
      ]
    },
    {
      "cell_type": "code",
      "metadata": {
        "id": "mvzbWLlCiZYs",
        "colab_type": "code",
        "colab": {
          "base_uri": "https://localhost:8080/",
          "height": 394
        },
        "outputId": "0e3ebd77-2db1-456f-9057-690c309b3dc7"
      },
      "source": [
        "from time import time\n",
        "import pandas as pd\n",
        "import numpy as np\n",
        "import re\n",
        "import sys\n",
        "import csv\n",
        "csv.field_size_limit(sys.maxsize)\n",
        "\n",
        "!pip install gensim\n",
        "from gensim.models import KeyedVectors\n",
        "\n",
        "import matplotlib.pyplot as plt\n",
        "import seaborn as sns\n",
        "\n",
        "import nltk\n",
        "nltk.download('stopwords')\n",
        "from nltk.corpus import stopwords\n",
        "stopwords = nltk.corpus.stopwords.words('english')\n",
        "\n",
        "import itertools\n",
        "import datetime\n",
        "\n",
        "import pprint\n",
        "import warnings\n",
        "warnings.filterwarnings('ignore')"
      ],
      "execution_count": 4,
      "outputs": [
        {
          "output_type": "stream",
          "text": [
            "Requirement already satisfied: gensim in /usr/local/lib/python3.6/dist-packages (3.6.0)\n",
            "Requirement already satisfied: numpy>=1.11.3 in /usr/local/lib/python3.6/dist-packages (from gensim) (1.18.5)\n",
            "Requirement already satisfied: smart-open>=1.2.1 in /usr/local/lib/python3.6/dist-packages (from gensim) (2.1.0)\n",
            "Requirement already satisfied: six>=1.5.0 in /usr/local/lib/python3.6/dist-packages (from gensim) (1.15.0)\n",
            "Requirement already satisfied: scipy>=0.18.1 in /usr/local/lib/python3.6/dist-packages (from gensim) (1.4.1)\n",
            "Requirement already satisfied: requests in /usr/local/lib/python3.6/dist-packages (from smart-open>=1.2.1->gensim) (2.23.0)\n",
            "Requirement already satisfied: boto in /usr/local/lib/python3.6/dist-packages (from smart-open>=1.2.1->gensim) (2.49.0)\n",
            "Requirement already satisfied: boto3 in /usr/local/lib/python3.6/dist-packages (from smart-open>=1.2.1->gensim) (1.14.30)\n",
            "Requirement already satisfied: chardet<4,>=3.0.2 in /usr/local/lib/python3.6/dist-packages (from requests->smart-open>=1.2.1->gensim) (3.0.4)\n",
            "Requirement already satisfied: certifi>=2017.4.17 in /usr/local/lib/python3.6/dist-packages (from requests->smart-open>=1.2.1->gensim) (2020.6.20)\n",
            "Requirement already satisfied: urllib3!=1.25.0,!=1.25.1,<1.26,>=1.21.1 in /usr/local/lib/python3.6/dist-packages (from requests->smart-open>=1.2.1->gensim) (1.24.3)\n",
            "Requirement already satisfied: idna<3,>=2.5 in /usr/local/lib/python3.6/dist-packages (from requests->smart-open>=1.2.1->gensim) (2.10)\n",
            "Requirement already satisfied: jmespath<1.0.0,>=0.7.1 in /usr/local/lib/python3.6/dist-packages (from boto3->smart-open>=1.2.1->gensim) (0.10.0)\n",
            "Requirement already satisfied: botocore<1.18.0,>=1.17.30 in /usr/local/lib/python3.6/dist-packages (from boto3->smart-open>=1.2.1->gensim) (1.17.30)\n",
            "Requirement already satisfied: s3transfer<0.4.0,>=0.3.0 in /usr/local/lib/python3.6/dist-packages (from boto3->smart-open>=1.2.1->gensim) (0.3.3)\n",
            "Requirement already satisfied: python-dateutil<3.0.0,>=2.1 in /usr/local/lib/python3.6/dist-packages (from botocore<1.18.0,>=1.17.30->boto3->smart-open>=1.2.1->gensim) (2.8.1)\n",
            "Requirement already satisfied: docutils<0.16,>=0.10 in /usr/local/lib/python3.6/dist-packages (from botocore<1.18.0,>=1.17.30->boto3->smart-open>=1.2.1->gensim) (0.15.2)\n"
          ],
          "name": "stdout"
        },
        {
          "output_type": "stream",
          "text": [
            "/usr/local/lib/python3.6/dist-packages/statsmodels/tools/_testing.py:19: FutureWarning: pandas.util.testing is deprecated. Use the functions in the public API at pandas.testing instead.\n",
            "  import pandas.util.testing as tm\n"
          ],
          "name": "stderr"
        },
        {
          "output_type": "stream",
          "text": [
            "[nltk_data] Downloading package stopwords to /root/nltk_data...\n",
            "[nltk_data]   Unzipping corpora/stopwords.zip.\n"
          ],
          "name": "stdout"
        }
      ]
    },
    {
      "cell_type": "markdown",
      "metadata": {
        "id": "rZtXuC97qef1",
        "colab_type": "text"
      },
      "source": [
        "## **Exploring word2vec pre-trained news vector**\n",
        "\n",
        "Refer to gensim documentation here for all pre-trained models\n",
        "https://radimrehurek.com/gensim/auto_examples/howtos/run_downloader_api.html"
      ]
    },
    {
      "cell_type": "code",
      "metadata": {
        "id": "QgCuQa9_h4dP",
        "colab_type": "code",
        "colab": {
          "base_uri": "https://localhost:8080/",
          "height": 34
        },
        "outputId": "c45ee2fb-4a7b-482d-e008-2a27172acb4f"
      },
      "source": [
        "pathToGoogleBinVec = '/content/GoogleNews-vectors-negative300.bin.gz'\n",
        "\n",
        "w2v_model = KeyedVectors.load_word2vec_format(pathToGoogleBinVec, binary=True)\n",
        "print(\"word2vec google news vector loaded successfully\")"
      ],
      "execution_count": 5,
      "outputs": [
        {
          "output_type": "stream",
          "text": [
            "word2vec google news vector loaded successfully\n"
          ],
          "name": "stdout"
        }
      ]
    },
    {
      "cell_type": "code",
      "metadata": {
        "id": "omJP3MqLh4xA",
        "colab_type": "code",
        "colab": {
          "base_uri": "https://localhost:8080/",
          "height": 34
        },
        "outputId": "03e089d4-eb0c-4a97-e8e2-5bf7d1113f55"
      },
      "source": [
        "# Length of vocabulary \n",
        "\n",
        "print(f\"There are {len(w2v_model.vocab)} unique words in the vocab\")"
      ],
      "execution_count": 6,
      "outputs": [
        {
          "output_type": "stream",
          "text": [
            "There are 3000000 unique words in the vocab\n"
          ],
          "name": "stdout"
        }
      ]
    },
    {
      "cell_type": "code",
      "metadata": {
        "id": "1WoFYvd6h40Y",
        "colab_type": "code",
        "colab": {
          "base_uri": "https://localhost:8080/",
          "height": 54
        },
        "outputId": "d5b9e3f4-89aa-497b-c067-d2ea653300dc"
      },
      "source": [
        "# Few sample words (200) from the vocab\n",
        "\n",
        "print(w2v_model.index2word[100:120])\n"
      ],
      "execution_count": 7,
      "outputs": [
        {
          "output_type": "stream",
          "text": [
            "['company', 'any', 'team', 'against', 'off', 'This', 'most', 'made', 'through', 'make', 'second', 'state', 'well', 'day', 'season', 'says', 'week', 'where', 'while', 'down']\n"
          ],
          "name": "stdout"
        }
      ]
    },
    {
      "cell_type": "code",
      "metadata": {
        "id": "oVPstCEezBUM",
        "colab_type": "code",
        "colab": {
          "base_uri": "https://localhost:8080/",
          "height": 272
        },
        "outputId": "5303ca4d-3471-4ea4-eaed-898fd92f444d"
      },
      "source": [
        "# if you want to check some of the multi-words withing first 2K embeddings\n",
        "# '\\w+(?:_\\w+)+' regex looks for tokens with underscore(_) in them\n",
        "\n",
        "count=0\n",
        "while count<2000:\n",
        "    a = re.findall(r'\\w+(?:_\\w+)+',w2v_model.index2word[count])\n",
        "    if not a:\n",
        "        pass\n",
        "    else:\n",
        "        print(a)\n",
        "    count+=1"
      ],
      "execution_count": 8,
      "outputs": [
        {
          "output_type": "stream",
          "text": [
            "['New_York']\n",
            "['United_States']\n",
            "['per_cent']\n",
            "['Associated_Press']\n",
            "['Los_Angeles']\n",
            "['health_care']\n",
            "['looking_statements']\n",
            "['White_House']\n",
            "['High_School']\n",
            "['e_mail']\n",
            "['vice_president']\n",
            "['World_Cup']\n",
            "['Web_site']\n",
            "['chief_executive']\n",
            "['New_Zealand']\n"
          ],
          "name": "stdout"
        }
      ]
    },
    {
      "cell_type": "code",
      "metadata": {
        "id": "JAYrKiO3h43o",
        "colab_type": "code",
        "colab": {
          "base_uri": "https://localhost:8080/",
          "height": 867
        },
        "outputId": "814252f2-8963-484c-f92c-0df23963e413"
      },
      "source": [
        "#Obtain vectors for terms from the model\n",
        "\n",
        "vec_car = w2v_model['car']\n",
        "print(vec_car)"
      ],
      "execution_count": 9,
      "outputs": [
        {
          "output_type": "stream",
          "text": [
            "[ 0.13085938  0.00842285  0.03344727 -0.05883789  0.04003906 -0.14257812\n",
            "  0.04931641 -0.16894531  0.20898438  0.11962891  0.18066406 -0.25\n",
            " -0.10400391 -0.10742188 -0.01879883  0.05200195 -0.00216675  0.06445312\n",
            "  0.14453125 -0.04541016  0.16113281 -0.01611328 -0.03088379  0.08447266\n",
            "  0.16210938  0.04467773 -0.15527344  0.25390625  0.33984375  0.00756836\n",
            " -0.25585938 -0.01733398 -0.03295898  0.16308594 -0.12597656 -0.09912109\n",
            "  0.16503906  0.06884766 -0.18945312  0.02832031 -0.0534668  -0.03063965\n",
            "  0.11083984  0.24121094 -0.234375    0.12353516 -0.00294495  0.1484375\n",
            "  0.33203125  0.05249023 -0.20019531  0.37695312  0.12255859  0.11425781\n",
            " -0.17675781  0.10009766  0.0030365   0.26757812  0.20117188  0.03710938\n",
            "  0.11083984 -0.09814453 -0.3125      0.03515625  0.02832031  0.26171875\n",
            " -0.08642578 -0.02258301 -0.05834961 -0.00787354  0.11767578 -0.04296875\n",
            " -0.17285156  0.04394531 -0.23046875  0.1640625  -0.11474609 -0.06030273\n",
            "  0.01196289 -0.24707031  0.32617188 -0.04492188 -0.11425781  0.22851562\n",
            " -0.01647949 -0.15039062 -0.13183594  0.12597656 -0.17480469  0.02209473\n",
            " -0.1015625   0.00817871  0.10791016 -0.24609375 -0.109375   -0.09375\n",
            " -0.01623535 -0.20214844  0.23144531 -0.05444336 -0.05541992 -0.20898438\n",
            "  0.26757812  0.27929688  0.17089844 -0.17578125 -0.02770996 -0.20410156\n",
            "  0.02392578  0.03125    -0.25390625 -0.125      -0.05493164 -0.17382812\n",
            "  0.28515625 -0.23242188  0.0234375  -0.20117188 -0.13476562  0.26367188\n",
            "  0.00769043  0.20507812 -0.01708984 -0.12988281  0.04711914  0.22070312\n",
            "  0.02099609 -0.29101562 -0.02893066  0.17285156  0.04272461 -0.19824219\n",
            " -0.04003906 -0.16992188  0.10058594 -0.09326172  0.15820312 -0.16503906\n",
            " -0.06054688  0.19433594 -0.07080078 -0.06884766 -0.09619141 -0.07226562\n",
            "  0.04882812  0.07324219  0.11035156  0.04858398 -0.17675781 -0.33789062\n",
            "  0.22558594  0.16308594  0.05102539 -0.08251953  0.07958984  0.08740234\n",
            " -0.16894531 -0.02160645 -0.19238281  0.03857422 -0.05102539  0.21972656\n",
            "  0.08007812 -0.21191406 -0.07519531 -0.15039062  0.3046875  -0.17089844\n",
            "  0.12353516 -0.234375   -0.10742188 -0.06787109  0.01904297 -0.14160156\n",
            " -0.22753906 -0.16308594  0.14453125 -0.15136719 -0.296875    0.22363281\n",
            " -0.10205078 -0.0456543  -0.21679688 -0.09033203  0.09375    -0.15332031\n",
            " -0.01550293  0.3046875  -0.23730469  0.08935547  0.03710938  0.02941895\n",
            " -0.28515625  0.15820312 -0.00306702  0.06054688  0.00497437 -0.15234375\n",
            " -0.00836182  0.02197266 -0.12109375 -0.13867188 -0.2734375  -0.06835938\n",
            "  0.08251953 -0.26367188 -0.16992188  0.14746094  0.08496094  0.02075195\n",
            "  0.13671875 -0.04931641 -0.0100708  -0.00369263 -0.10839844  0.14746094\n",
            " -0.15527344  0.16113281  0.05615234 -0.05004883 -0.1640625  -0.26953125\n",
            "  0.4140625   0.06079102 -0.046875   -0.02514648  0.10595703  0.1328125\n",
            " -0.16699219 -0.04907227  0.04663086  0.05151367 -0.07958984 -0.16503906\n",
            " -0.29882812  0.06054688 -0.15332031 -0.00598145  0.06640625 -0.04516602\n",
            "  0.24316406 -0.07080078 -0.36914062 -0.23144531 -0.11914062 -0.08300781\n",
            "  0.14746094 -0.05761719  0.23535156 -0.12304688  0.14648438  0.13671875\n",
            "  0.15429688  0.02111816 -0.09570312  0.05859375  0.03979492 -0.08105469\n",
            "  0.0559082  -0.16601562  0.27148438 -0.20117188 -0.00915527  0.07324219\n",
            "  0.10449219  0.34570312 -0.26367188  0.02099609 -0.40039062 -0.03417969\n",
            " -0.15917969 -0.08789062  0.08203125  0.23339844  0.0213623  -0.11328125\n",
            "  0.05249023 -0.10449219 -0.02380371 -0.08349609 -0.04003906  0.01916504\n",
            " -0.01226807 -0.18261719 -0.06787109 -0.08496094 -0.03039551 -0.05395508\n",
            "  0.04248047  0.12792969 -0.27539062  0.28515625 -0.04736328  0.06494141\n",
            " -0.11230469 -0.02575684 -0.04125977  0.22851562 -0.14941406 -0.15039062]\n"
          ],
          "name": "stdout"
        }
      ]
    },
    {
      "cell_type": "code",
      "metadata": {
        "id": "HQAkxTEsh46b",
        "colab_type": "code",
        "colab": {
          "base_uri": "https://localhost:8080/",
          "height": 34
        },
        "outputId": "bf78daaf-a9e8-4a78-8832-85d7a2436e5b"
      },
      "source": [
        "# word2vec Cannot handle OOV words that is not embbedded in model\n",
        "try:\n",
        "    word = 'cameroon'\n",
        "    vec = w2v_model[word]\n",
        "except KeyError:\n",
        "    print(f\"The word {word} does not appear in this model\")"
      ],
      "execution_count": 10,
      "outputs": [
        {
          "output_type": "stream",
          "text": [
            "The word cameroon does not appear in this model\n"
          ],
          "name": "stdout"
        }
      ]
    },
    {
      "cell_type": "code",
      "metadata": {
        "id": "y2SUybQah49e",
        "colab_type": "code",
        "colab": {
          "base_uri": "https://localhost:8080/",
          "height": 34
        },
        "outputId": "9a304d3e-e304-4dac-e728-61acf197dbd4"
      },
      "source": [
        "try:\n",
        "    word = 'brexit'\n",
        "    vec = w2v_model[word]\n",
        "except KeyError:\n",
        "    print(f\"The word {word} does not appear in this model\")"
      ],
      "execution_count": 11,
      "outputs": [
        {
          "output_type": "stream",
          "text": [
            "The word brexit does not appear in this model\n"
          ],
          "name": "stdout"
        }
      ]
    },
    {
      "cell_type": "code",
      "metadata": {
        "id": "7VO-MrkWqJMA",
        "colab_type": "code",
        "colab": {
          "base_uri": "https://localhost:8080/",
          "height": 119
        },
        "outputId": "be1e0b47-153c-4601-ab32-6d23179ec1ff"
      },
      "source": [
        "# Word2Vec supports several word similarity tasks \n",
        "\n",
        "pairs = [\n",
        "    ('car', 'minivan'),   \n",
        "    ('car', 'bicycle'),  \n",
        "    ('car', 'airplane'),  \n",
        "    ('car', 'drone'), \n",
        "    ('car', 'cereal'), \n",
        "    ('car', 'communism')]\n",
        "\n",
        "for w1, w2 in pairs:\n",
        "    print('%r and %r \\tsimilarity score is\\t%.3f' % (w1, w2, w2v_model.similarity(w1, w2)))"
      ],
      "execution_count": 12,
      "outputs": [
        {
          "output_type": "stream",
          "text": [
            "'car' and 'minivan' \tsimilarity score is\t0.691\n",
            "'car' and 'bicycle' \tsimilarity score is\t0.536\n",
            "'car' and 'airplane' \tsimilarity score is\t0.424\n",
            "'car' and 'drone' \tsimilarity score is\t0.142\n",
            "'car' and 'cereal' \tsimilarity score is\t0.139\n",
            "'car' and 'communism' \tsimilarity score is\t0.058\n"
          ],
          "name": "stdout"
        }
      ]
    },
    {
      "cell_type": "code",
      "metadata": {
        "id": "YSgTV8TSqJPA",
        "colab_type": "code",
        "colab": {
          "base_uri": "https://localhost:8080/",
          "height": 187
        },
        "outputId": "29b9dbbf-126f-4144-d553-6fe18d5d79a2"
      },
      "source": [
        "# since car and minivan had the most similarity in above example, let's see which other words are related to them\n",
        "\n",
        "pprint.pprint(w2v_model.most_similar(positive=['car', 'minivan'], topn=10))"
      ],
      "execution_count": 13,
      "outputs": [
        {
          "output_type": "stream",
          "text": [
            "[('SUV', 0.853219211101532),\n",
            " ('vehicle', 0.8175784349441528),\n",
            " ('pickup_truck', 0.7763689160346985),\n",
            " ('Jeep', 0.7567334175109863),\n",
            " ('Ford_Explorer', 0.756571888923645),\n",
            " ('sedan', 0.7446292638778687),\n",
            " ('station_wagon', 0.7440938949584961),\n",
            " ('Honda_Civic', 0.7440057396888733),\n",
            " ('Nissan_Altima', 0.7391073703765869),\n",
            " ('Ford_Taurus', 0.7306575775146484)]\n"
          ],
          "name": "stdout"
        }
      ]
    },
    {
      "cell_type": "code",
      "metadata": {
        "id": "ZWLOr0-extiV",
        "colab_type": "code",
        "colab": {
          "base_uri": "https://localhost:8080/",
          "height": 187
        },
        "outputId": "0de2b76c-ca74-4953-b783-f2a23ba1562c"
      },
      "source": [
        "# you could also get most similar per token\n",
        "\n",
        "w2v_model.most_similar('car')"
      ],
      "execution_count": 14,
      "outputs": [
        {
          "output_type": "execute_result",
          "data": {
            "text/plain": [
              "[('vehicle', 0.7821096181869507),\n",
              " ('cars', 0.7423830032348633),\n",
              " ('SUV', 0.7160962820053101),\n",
              " ('minivan', 0.6907036304473877),\n",
              " ('truck', 0.6735789775848389),\n",
              " ('Car', 0.6677608489990234),\n",
              " ('Ford_Focus', 0.667320191860199),\n",
              " ('Honda_Civic', 0.662684977054596),\n",
              " ('Jeep', 0.6511331796646118),\n",
              " ('pickup_truck', 0.64414381980896)]"
            ]
          },
          "metadata": {
            "tags": []
          },
          "execution_count": 14
        }
      ]
    },
    {
      "cell_type": "code",
      "metadata": {
        "id": "_a5Znx6DqJRu",
        "colab_type": "code",
        "colab": {
          "base_uri": "https://localhost:8080/",
          "height": 187
        },
        "outputId": "88ca0673-3464-41af-d9fc-62f1b1280936"
      },
      "source": [
        "# most similar words with positive re-affirmations to the words you want it to be closely related with\n",
        "\n",
        "pprint.pprint(w2v_model.most_similar(positive=['king', 'royal'], topn=10))"
      ],
      "execution_count": 15,
      "outputs": [
        {
          "output_type": "stream",
          "text": [
            "[('monarch', 0.7467336654663086),\n",
            " ('prince', 0.7213603258132935),\n",
            " ('royals', 0.7089868783950806),\n",
            " ('queen', 0.6958334445953369),\n",
            " ('princes', 0.6781231164932251),\n",
            " ('crown_prince', 0.6633656024932861),\n",
            " ('kings', 0.6616665124893188),\n",
            " ('monarchy', 0.6258724927902222),\n",
            " ('sultan', 0.6217681169509888),\n",
            " ('palace', 0.6200119256973267)]\n"
          ],
          "name": "stdout"
        }
      ]
    },
    {
      "cell_type": "code",
      "metadata": {
        "id": "_VBcv83cqJU5",
        "colab_type": "code",
        "colab": {
          "base_uri": "https://localhost:8080/",
          "height": 187
        },
        "outputId": "cb9aae71-8846-44c1-e2e1-3f76fdbba5da"
      },
      "source": [
        "pprint.pprint(w2v_model.most_similar(positive=['egg', 'meat'], topn=10))"
      ],
      "execution_count": 16,
      "outputs": [
        {
          "output_type": "stream",
          "text": [
            "[('eggs', 0.7468311190605164),\n",
            " ('chicken', 0.7329204678535461),\n",
            " ('pork', 0.6527470350265503),\n",
            " ('meats', 0.6421541571617126),\n",
            " ('beef', 0.6267613172531128),\n",
            " ('veal', 0.6215294599533081),\n",
            " ('turkey', 0.620357871055603),\n",
            " ('poultry', 0.6129070520401001),\n",
            " ('lamb', 0.6059913635253906),\n",
            " ('grilled_herbed', 0.5847586393356323)]\n"
          ],
          "name": "stdout"
        }
      ]
    },
    {
      "cell_type": "code",
      "metadata": {
        "id": "uRpYd6-yqJYN",
        "colab_type": "code",
        "colab": {
          "base_uri": "https://localhost:8080/",
          "height": 187
        },
        "outputId": "7ce5e053-3600-4d96-8e0d-44a691872f7f"
      },
      "source": [
        "w2v_model.most_similar('politics')"
      ],
      "execution_count": null,
      "outputs": [
        {
          "output_type": "execute_result",
          "data": {
            "text/plain": [
              "[('partisan_politics', 0.6832237243652344),\n",
              " ('Politics', 0.6740255355834961),\n",
              " ('political', 0.6718930602073669),\n",
              " ('politcs', 0.6221948266029358),\n",
              " ('poltics', 0.5941637754440308),\n",
              " ('Lisa_Vorderbrueggen_covers', 0.5866053700447083),\n",
              " ('partisanship', 0.5735563039779663),\n",
              " ('politicians', 0.5705571174621582),\n",
              " ('politician', 0.5695300102233887),\n",
              " ('politicking', 0.5680171847343445)]"
            ]
          },
          "metadata": {
            "tags": []
          },
          "execution_count": 18
        }
      ]
    },
    {
      "cell_type": "code",
      "metadata": {
        "id": "NIdvNcxtqJcs",
        "colab_type": "code",
        "colab": {
          "base_uri": "https://localhost:8080/",
          "height": 34
        },
        "outputId": "4f1f3f1e-b46e-482e-d225-2a3380c73200"
      },
      "source": [
        "# to find the odd-one out basically\n",
        "\n",
        "print(w2v_model.doesnt_match(['fire', 'water', 'land', 'sea', 'air', 'car']))"
      ],
      "execution_count": 17,
      "outputs": [
        {
          "output_type": "stream",
          "text": [
            "car\n"
          ],
          "name": "stdout"
        }
      ]
    },
    {
      "cell_type": "code",
      "metadata": {
        "id": "3pzmIR2UqJf9",
        "colab_type": "code",
        "colab": {
          "base_uri": "https://localhost:8080/",
          "height": 34
        },
        "outputId": "f8fa521f-ddbe-41f7-cdb8-4674ae5dd669"
      },
      "source": [
        "print(w2v_model.doesnt_match(['king', 'sultan', 'farmer', 'royal', 'queen', 'ruler']))"
      ],
      "execution_count": 18,
      "outputs": [
        {
          "output_type": "stream",
          "text": [
            "farmer\n"
          ],
          "name": "stdout"
        }
      ]
    },
    {
      "cell_type": "code",
      "metadata": {
        "id": "j46Apgqj3aGj",
        "colab_type": "code",
        "colab": {
          "base_uri": "https://localhost:8080/",
          "height": 34
        },
        "outputId": "d63c0cb6-d334-4a65-ceb1-528488692df6"
      },
      "source": [
        "# similarity score between sequence of words \n",
        "\n",
        "sim = w2v_model.n_similarity(['sushi', 'store'], ['japanese', 'restaurant'])\n",
        "print(\"{:.2f}\".format(sim))"
      ],
      "execution_count": 19,
      "outputs": [
        {
          "output_type": "stream",
          "text": [
            "0.60\n"
          ],
          "name": "stdout"
        }
      ]
    },
    {
      "cell_type": "code",
      "metadata": {
        "id": "XoGhi5g23aJ0",
        "colab_type": "code",
        "colab": {
          "base_uri": "https://localhost:8080/",
          "height": 35
        },
        "outputId": "7c1b8d6b-be6d-4407-9df7-e4c51fa6531b"
      },
      "source": [
        "#Get the entity from entities_list most similar to entity1\n",
        "\n",
        "w2v_model.most_similar_to_given('food', ['buddhist','fuji', 'sushi','tea'])\n"
      ],
      "execution_count": 20,
      "outputs": [
        {
          "output_type": "execute_result",
          "data": {
            "application/vnd.google.colaboratory.intrinsic+json": {
              "type": "string"
            },
            "text/plain": [
              "'sushi'"
            ]
          },
          "metadata": {
            "tags": []
          },
          "execution_count": 20
        }
      ]
    },
    {
      "cell_type": "code",
      "metadata": {
        "id": "3QsTQyMu3aMx",
        "colab_type": "code",
        "colab": {
          "base_uri": "https://localhost:8080/",
          "height": 34
        },
        "outputId": "45611aa8-49bb-45f2-a7da-8c79aa23e1f3"
      },
      "source": [
        "# Get similarity between sentence vectors transformed as list\n",
        "\n",
        "s1 = 'This room is dirty'\n",
        "s2 = 'dirty disgusting dorm'\n",
        "\n",
        "sim = w2v_model.n_similarity(s1.lower().split(), s2.lower().split())\n",
        "print(\"The similarity score between s1 & s2 is {:.2f}\".format(sim))"
      ],
      "execution_count": 21,
      "outputs": [
        {
          "output_type": "stream",
          "text": [
            "The similarity score between s1 & s2 is 0.59\n"
          ],
          "name": "stdout"
        }
      ]
    },
    {
      "cell_type": "code",
      "metadata": {
        "id": "qeFQ4wf33aQW",
        "colab_type": "code",
        "colab": {
          "base_uri": "https://localhost:8080/",
          "height": 51
        },
        "outputId": "b43b0eba-c881-466b-aa76-f05aa148ad21"
      },
      "source": [
        "# difference between cosine and word mover similarity for similar sentences\n",
        "\n",
        "sentence_obama = 'Obama speaks to the media in Illinois'.lower().split()\n",
        "sentence_president = 'The president greets the press in Chicago'.lower().split()\n",
        "\n",
        "#normalizing the model for WM\n",
        "\n",
        "w2v_model.init_sims(replace=True)\n",
        "\n",
        "# Remove Stopwords\n",
        "sentence_obama = [w for w in sentence_obama if w not in stopwords]\n",
        "sentence_president = [w for w in sentence_president if w not in stopwords]\n",
        "\n",
        "cosine_sim = w2v_model.n_similarity(sentence_obama, sentence_president)\n",
        "wm_sim = w2v_model.wmdistance(sentence_obama, sentence_president)\n",
        "\n",
        "\n",
        "print(f\"The cosine score between s1 & s2 is {cosine_sim:.2f}\\nThe word mover score between s1 & s2 is {wm_sim:2f}\")"
      ],
      "execution_count": 22,
      "outputs": [
        {
          "output_type": "stream",
          "text": [
            "The cosine score between s1 & s2 is 0.63\n",
            "The word mover score between s1 & s2 is 1.017465\n"
          ],
          "name": "stdout"
        }
      ]
    },
    {
      "cell_type": "markdown",
      "metadata": {
        "id": "Ccr4wwjufuSP",
        "colab_type": "text"
      },
      "source": [
        "### Visualizing the google w2v model using t-SNE (T-distributed Stochastic Neighbor Embedding)"
      ]
    },
    {
      "cell_type": "code",
      "metadata": {
        "id": "ko58orN9j3mx",
        "colab_type": "code",
        "colab": {}
      },
      "source": [
        "from sklearn.manifold import TSNE\n",
        "\n",
        "def display_closestwords_tsnescatterplot(model, word, n):\n",
        "    \n",
        "    arr = np.empty((0,300), dtype='f')\n",
        "    word_labels = [word]\n",
        "\n",
        "    # get close words\n",
        "    close_words = model.similar_by_word(word)\n",
        "    \n",
        "    # add the vector for each of the closest words to the array\n",
        "    arr = np.append(arr, np.array([model[word]]), axis=0)\n",
        "    for wrd_score in close_words:\n",
        "        wrd_vector = model[wrd_score[0]]\n",
        "        word_labels.append(wrd_score[0])\n",
        "        arr = np.append(arr, np.array([wrd_vector]), axis=0)\n",
        "        \n",
        "    # find tsne coords for n_components dimensions\n",
        "    tsne = TSNE(n_components=n, random_state=0)\n",
        "    np.set_printoptions(suppress=True)\n",
        "    Y = tsne.fit_transform(arr)\n",
        "\n",
        "    x_coords = Y[:, 0]\n",
        "    y_coords = Y[:, 1]\n",
        "    \n",
        "    # display scatter plot\n",
        "    plt.figure(figsize=(10,7))\n",
        "    plt.scatter(x_coords, y_coords)\n",
        "\n",
        "    for label, x, y in zip(word_labels, x_coords, y_coords):\n",
        "        plt.annotate(label, xy=(x, y), xytext=(0, 0), textcoords='offset points')\n",
        "    \n",
        "    plt.xlim(x_coords.min()+0.00005, x_coords.max()+0.00005)\n",
        "    plt.ylim(y_coords.min()+0.00005, y_coords.max()+0.00005)\n",
        "    \n",
        "    plt.show()"
      ],
      "execution_count": 23,
      "outputs": []
    },
    {
      "cell_type": "code",
      "metadata": {
        "id": "JbeRrCtbjdb2",
        "colab_type": "code",
        "colab": {
          "base_uri": "https://localhost:8080/",
          "height": 410
        },
        "outputId": "2d36ee2e-7c19-4997-c92f-e0badeeb573c"
      },
      "source": [
        "display_closestwords_tsnescatterplot(w2v_model, 'car', 2)"
      ],
      "execution_count": 24,
      "outputs": [
        {
          "output_type": "display_data",
          "data": {
            "image/png": "[encoded data removed]",
            "text/plain": [
              "<Figure size 720x504 with 1 Axes>"
            ]
          },
          "metadata": {
            "tags": [],
            "needs_background": "light"
          }
        }
      ]
    },
    {
      "cell_type": "code",
      "metadata": {
        "id": "8nOP9pnIrALt",
        "colab_type": "code",
        "colab": {
          "base_uri": "https://localhost:8080/",
          "height": 408
        },
        "outputId": "94a4b69e-201d-4cb4-c819-1afdcd055372"
      },
      "source": [
        "display_closestwords_tsnescatterplot(w2v_model, 'car', 3)"
      ],
      "execution_count": 25,
      "outputs": [
        {
          "output_type": "display_data",
          "data": {
            "image/png": "[encoded data removed]",
            "text/plain": [
              "<Figure size 720x504 with 1 Axes>"
            ]
          },
          "metadata": {
            "tags": [],
            "needs_background": "light"
          }
        }
      ]
    },
    {
      "cell_type": "code",
      "metadata": {
        "id": "l-zZODHiGgE8",
        "colab_type": "code",
        "colab": {
          "base_uri": "https://localhost:8080/",
          "height": 412
        },
        "outputId": "beda8a13-5a0a-4dc8-8810-3e1e57566815"
      },
      "source": [
        "display_closestwords_tsnescatterplot(w2v_model, 'tasty', 2)"
      ],
      "execution_count": 26,
      "outputs": [
        {
          "output_type": "display_data",
          "data": {
            "image/png": "[encoded data removed]",
            "text/plain": [
              "<Figure size 720x504 with 1 Axes>"
            ]
          },
          "metadata": {
            "tags": [],
            "needs_background": "light"
          }
        }
      ]
    },
    {
      "cell_type": "code",
      "metadata": {
        "id": "t-rH4_G4GgHb",
        "colab_type": "code",
        "colab": {
          "base_uri": "https://localhost:8080/",
          "height": 424
        },
        "outputId": "904b5eb3-e7a0-45d9-f28c-668f8b294929"
      },
      "source": [
        "display_closestwords_tsnescatterplot(w2v_model, 'soccer', 3)"
      ],
      "execution_count": 27,
      "outputs": [
        {
          "output_type": "display_data",
          "data": {
            "image/png": "[encoded data removed]",
            "text/plain": [
              "<Figure size 720x504 with 1 Axes>"
            ]
          },
          "metadata": {
            "tags": [],
            "needs_background": "light"
          }
        }
      ]
    },
    {
      "cell_type": "markdown",
      "metadata": {
        "id": "SdksiV-7vIEO",
        "colab_type": "text"
      },
      "source": [
        "### **Now that we have explored the pre-trained model, let's fit it into our Kaggle News dataset**"
      ]
    },
    {
      "cell_type": "markdown",
      "metadata": {
        "id": "Fwqi6obMKBRK",
        "colab_type": "text"
      },
      "source": [
        "### Load .csv dataset into a pandas dataframe"
      ]
    },
    {
      "cell_type": "code",
      "metadata": {
        "id": "L25pM_zDOEnM",
        "colab_type": "code",
        "colab": {
          "base_uri": "https://localhost:8080/",
          "height": 632
        },
        "outputId": "f83117dd-5746-413d-98e3-1a68e95f0836"
      },
      "source": [
        "# reading the csv into a pandas dataframe\n",
        "\n",
        "cols=['num','id','title','publication', 'author', 'date', 'year', 'month', 'url', 'content']\n",
        "\n",
        "news_articles_df = pd.read_csv('/content/articles1.csv', engine = 'python', usecols=cols, header=0, nrows = 5000)\n",
        "\n",
        "#csv data may have trailing and leading spaces\n",
        "news_articles_df = news_articles_df.applymap(lambda x: x.strip() if isinstance(x, str) else x)\n",
        "\n",
        "nRow, nCol = news_articles_df.shape\n",
        "print(f'There are {nRow} rows and {nCol} columns')\n",
        "\n",
        "# Removing empty rows from csv if any\n",
        "news_articles_df.dropna(axis=0, how='all',inplace=True)\n",
        "nRow, nCol = news_articles_df.shape\n",
        "print(f'There are {nRow} rows and {nCol} columns after removing empty rows')\n",
        "\n",
        "news_articles_df.head()"
      ],
      "execution_count": 28,
      "outputs": [
        {
          "output_type": "stream",
          "text": [
            "There are 5000 rows and 10 columns\n",
            "There are 5000 rows and 10 columns after removing empty rows\n"
          ],
          "name": "stdout"
        },
        {
          "output_type": "execute_result",
          "data": {
            "text/html": [
              "<div>\n",
              "<style scoped>\n",
              "    .dataframe tbody tr th:only-of-type {\n",
              "        vertical-align: middle;\n",
              "    }\n",
              "\n",
              "    .dataframe tbody tr th {\n",
              "        vertical-align: top;\n",
              "    }\n",
              "\n",
              "    .dataframe thead th {\n",
              "        text-align: right;\n",
              "    }\n",
              "</style>\n",
              "<table border=\"1\" class=\"dataframe\">\n",
              "  <thead>\n",
              "    <tr style=\"text-align: right;\">\n",
              "      <th></th>\n",
              "      <th>num</th>\n",
              "      <th>id</th>\n",
              "      <th>title</th>\n",
              "      <th>publication</th>\n",
              "      <th>author</th>\n",
              "      <th>date</th>\n",
              "      <th>year</th>\n",
              "      <th>month</th>\n",
              "      <th>url</th>\n",
              "      <th>content</th>\n",
              "    </tr>\n",
              "  </thead>\n",
              "  <tbody>\n",
              "    <tr>\n",
              "      <th>0</th>\n",
              "      <td>0</td>\n",
              "      <td>17283</td>\n",
              "      <td>House Republicans Fret About Winning Their Hea...</td>\n",
              "      <td>New York Times</td>\n",
              "      <td>Carl Hulse</td>\n",
              "      <td>2016-12-31</td>\n",
              "      <td>2016.0</td>\n",
              "      <td>12.0</td>\n",
              "      <td>NaN</td>\n",
              "      <td>WASHINGTON  —   Congressional Republicans have...</td>\n",
              "    </tr>\n",
              "    <tr>\n",
              "      <th>1</th>\n",
              "      <td>1</td>\n",
              "      <td>17284</td>\n",
              "      <td>Rift Between Officers and Residents as Killing...</td>\n",
              "      <td>New York Times</td>\n",
              "      <td>Benjamin Mueller and Al Baker</td>\n",
              "      <td>2017-06-19</td>\n",
              "      <td>2017.0</td>\n",
              "      <td>6.0</td>\n",
              "      <td>NaN</td>\n",
              "      <td>After the bullet shells get counted, the blood...</td>\n",
              "    </tr>\n",
              "    <tr>\n",
              "      <th>2</th>\n",
              "      <td>2</td>\n",
              "      <td>17285</td>\n",
              "      <td>Tyrus Wong, ‘Bambi’ Artist Thwarted by Racial ...</td>\n",
              "      <td>New York Times</td>\n",
              "      <td>Margalit Fox</td>\n",
              "      <td>2017-01-06</td>\n",
              "      <td>2017.0</td>\n",
              "      <td>1.0</td>\n",
              "      <td>NaN</td>\n",
              "      <td>When Walt Disney’s “Bambi” opened in 1942, cri...</td>\n",
              "    </tr>\n",
              "    <tr>\n",
              "      <th>3</th>\n",
              "      <td>3</td>\n",
              "      <td>17286</td>\n",
              "      <td>Among Deaths in 2016, a Heavy Toll in Pop Musi...</td>\n",
              "      <td>New York Times</td>\n",
              "      <td>William McDonald</td>\n",
              "      <td>2017-04-10</td>\n",
              "      <td>2017.0</td>\n",
              "      <td>4.0</td>\n",
              "      <td>NaN</td>\n",
              "      <td>Death may be the great equalizer, but it isn’t...</td>\n",
              "    </tr>\n",
              "    <tr>\n",
              "      <th>4</th>\n",
              "      <td>4</td>\n",
              "      <td>17287</td>\n",
              "      <td>Kim Jong-un Says North Korea Is Preparing to T...</td>\n",
              "      <td>New York Times</td>\n",
              "      <td>Choe Sang-Hun</td>\n",
              "      <td>2017-01-02</td>\n",
              "      <td>2017.0</td>\n",
              "      <td>1.0</td>\n",
              "      <td>NaN</td>\n",
              "      <td>SEOUL, South Korea  —   North Korea’s leader, ...</td>\n",
              "    </tr>\n",
              "  </tbody>\n",
              "</table>\n",
              "</div>"
            ],
            "text/plain": [
              "   num     id  ... url                                            content\n",
              "0    0  17283  ... NaN  WASHINGTON  —   Congressional Republicans have...\n",
              "1    1  17284  ... NaN  After the bullet shells get counted, the blood...\n",
              "2    2  17285  ... NaN  When Walt Disney’s “Bambi” opened in 1942, cri...\n",
              "3    3  17286  ... NaN  Death may be the great equalizer, but it isn’t...\n",
              "4    4  17287  ... NaN  SEOUL, South Korea  —   North Korea’s leader, ...\n",
              "\n",
              "[5 rows x 10 columns]"
            ]
          },
          "metadata": {
            "tags": []
          },
          "execution_count": 28
        }
      ]
    },
    {
      "cell_type": "code",
      "metadata": {
        "id": "19w7wODT16HH",
        "colab_type": "code",
        "colab": {
          "base_uri": "https://localhost:8080/",
          "height": 615
        },
        "outputId": "8782d337-23c0-4bf0-ef19-1528522e9636"
      },
      "source": [
        "# Removing the bad lines by checking in the column 'num' (which is just a serial number is type int or not, if not then assuming it's a bad link and removing it from df)\n",
        "\n",
        "news_articles_df = news_articles_df[pd.to_numeric(news_articles_df['num'], errors='coerce').notnull()]\n",
        "\n",
        "nRow, nCol = news_articles_df.shape\n",
        "print(f'There are {nRow} rows and {nCol} columns')\n",
        "\n",
        "news_articles_df.head()"
      ],
      "execution_count": 29,
      "outputs": [
        {
          "output_type": "stream",
          "text": [
            "There are 5000 rows and 10 columns\n"
          ],
          "name": "stdout"
        },
        {
          "output_type": "execute_result",
          "data": {
            "text/html": [
              "<div>\n",
              "<style scoped>\n",
              "    .dataframe tbody tr th:only-of-type {\n",
              "        vertical-align: middle;\n",
              "    }\n",
              "\n",
              "    .dataframe tbody tr th {\n",
              "        vertical-align: top;\n",
              "    }\n",
              "\n",
              "    .dataframe thead th {\n",
              "        text-align: right;\n",
              "    }\n",
              "</style>\n",
              "<table border=\"1\" class=\"dataframe\">\n",
              "  <thead>\n",
              "    <tr style=\"text-align: right;\">\n",
              "      <th></th>\n",
              "      <th>num</th>\n",
              "      <th>id</th>\n",
              "      <th>title</th>\n",
              "      <th>publication</th>\n",
              "      <th>author</th>\n",
              "      <th>date</th>\n",
              "      <th>year</th>\n",
              "      <th>month</th>\n",
              "      <th>url</th>\n",
              "      <th>content</th>\n",
              "    </tr>\n",
              "  </thead>\n",
              "  <tbody>\n",
              "    <tr>\n",
              "      <th>0</th>\n",
              "      <td>0</td>\n",
              "      <td>17283</td>\n",
              "      <td>House Republicans Fret About Winning Their Hea...</td>\n",
              "      <td>New York Times</td>\n",
              "      <td>Carl Hulse</td>\n",
              "      <td>2016-12-31</td>\n",
              "      <td>2016.0</td>\n",
              "      <td>12.0</td>\n",
              "      <td>NaN</td>\n",
              "      <td>WASHINGTON  —   Congressional Republicans have...</td>\n",
              "    </tr>\n",
              "    <tr>\n",
              "      <th>1</th>\n",
              "      <td>1</td>\n",
              "      <td>17284</td>\n",
              "      <td>Rift Between Officers and Residents as Killing...</td>\n",
              "      <td>New York Times</td>\n",
              "      <td>Benjamin Mueller and Al Baker</td>\n",
              "      <td>2017-06-19</td>\n",
              "      <td>2017.0</td>\n",
              "      <td>6.0</td>\n",
              "      <td>NaN</td>\n",
              "      <td>After the bullet shells get counted, the blood...</td>\n",
              "    </tr>\n",
              "    <tr>\n",
              "      <th>2</th>\n",
              "      <td>2</td>\n",
              "      <td>17285</td>\n",
              "      <td>Tyrus Wong, ‘Bambi’ Artist Thwarted by Racial ...</td>\n",
              "      <td>New York Times</td>\n",
              "      <td>Margalit Fox</td>\n",
              "      <td>2017-01-06</td>\n",
              "      <td>2017.0</td>\n",
              "      <td>1.0</td>\n",
              "      <td>NaN</td>\n",
              "      <td>When Walt Disney’s “Bambi” opened in 1942, cri...</td>\n",
              "    </tr>\n",
              "    <tr>\n",
              "      <th>3</th>\n",
              "      <td>3</td>\n",
              "      <td>17286</td>\n",
              "      <td>Among Deaths in 2016, a Heavy Toll in Pop Musi...</td>\n",
              "      <td>New York Times</td>\n",
              "      <td>William McDonald</td>\n",
              "      <td>2017-04-10</td>\n",
              "      <td>2017.0</td>\n",
              "      <td>4.0</td>\n",
              "      <td>NaN</td>\n",
              "      <td>Death may be the great equalizer, but it isn’t...</td>\n",
              "    </tr>\n",
              "    <tr>\n",
              "      <th>4</th>\n",
              "      <td>4</td>\n",
              "      <td>17287</td>\n",
              "      <td>Kim Jong-un Says North Korea Is Preparing to T...</td>\n",
              "      <td>New York Times</td>\n",
              "      <td>Choe Sang-Hun</td>\n",
              "      <td>2017-01-02</td>\n",
              "      <td>2017.0</td>\n",
              "      <td>1.0</td>\n",
              "      <td>NaN</td>\n",
              "      <td>SEOUL, South Korea  —   North Korea’s leader, ...</td>\n",
              "    </tr>\n",
              "  </tbody>\n",
              "</table>\n",
              "</div>"
            ],
            "text/plain": [
              "   num     id  ... url                                            content\n",
              "0    0  17283  ... NaN  WASHINGTON  —   Congressional Republicans have...\n",
              "1    1  17284  ... NaN  After the bullet shells get counted, the blood...\n",
              "2    2  17285  ... NaN  When Walt Disney’s “Bambi” opened in 1942, cri...\n",
              "3    3  17286  ... NaN  Death may be the great equalizer, but it isn’t...\n",
              "4    4  17287  ... NaN  SEOUL, South Korea  —   North Korea’s leader, ...\n",
              "\n",
              "[5 rows x 10 columns]"
            ]
          },
          "metadata": {
            "tags": []
          },
          "execution_count": 29
        }
      ]
    },
    {
      "cell_type": "markdown",
      "metadata": {
        "id": "CMUPQDtIQnfU",
        "colab_type": "text"
      },
      "source": [
        "### **Describe the data**"
      ]
    },
    {
      "cell_type": "code",
      "metadata": {
        "id": "RPOFBiInQsxh",
        "colab_type": "code",
        "colab": {
          "base_uri": "https://localhost:8080/",
          "height": 306
        },
        "outputId": "b8a91521-68cc-4520-cab1-b373d22ba6fc"
      },
      "source": [
        "# getting basic info about the dataset\n",
        "\n",
        "news_articles_df.info()"
      ],
      "execution_count": 30,
      "outputs": [
        {
          "output_type": "stream",
          "text": [
            "<class 'pandas.core.frame.DataFrame'>\n",
            "Int64Index: 5000 entries, 0 to 4999\n",
            "Data columns (total 10 columns):\n",
            " #   Column       Non-Null Count  Dtype  \n",
            "---  ------       --------------  -----  \n",
            " 0   num          5000 non-null   int64  \n",
            " 1   id           5000 non-null   int64  \n",
            " 2   title        5000 non-null   object \n",
            " 3   publication  5000 non-null   object \n",
            " 4   author       4973 non-null   object \n",
            " 5   date         5000 non-null   object \n",
            " 6   year         5000 non-null   float64\n",
            " 7   month        5000 non-null   float64\n",
            " 8   url          0 non-null      float64\n",
            " 9   content      5000 non-null   object \n",
            "dtypes: float64(3), int64(2), object(5)\n",
            "memory usage: 429.7+ KB\n"
          ],
          "name": "stdout"
        }
      ]
    },
    {
      "cell_type": "code",
      "metadata": {
        "id": "UBgHp-uKQ8Wr",
        "colab_type": "code",
        "colab": {
          "base_uri": "https://localhost:8080/",
          "height": 204
        },
        "outputId": "b555d9eb-92c8-44a9-8db5-9379e14dbe80"
      },
      "source": [
        "# checking for null values, if any\n",
        "\n",
        "news_articles_df.isnull().sum()"
      ],
      "execution_count": 31,
      "outputs": [
        {
          "output_type": "execute_result",
          "data": {
            "text/plain": [
              "num               0\n",
              "id                0\n",
              "title             0\n",
              "publication       0\n",
              "author           27\n",
              "date              0\n",
              "year              0\n",
              "month             0\n",
              "url            5000\n",
              "content           0\n",
              "dtype: int64"
            ]
          },
          "metadata": {
            "tags": []
          },
          "execution_count": 31
        }
      ]
    },
    {
      "cell_type": "markdown",
      "metadata": {
        "id": "4c5aporYeEa2",
        "colab_type": "text"
      },
      "source": [
        "### For the next phase of analysis, we will consider only the \"title\" column"
      ]
    },
    {
      "cell_type": "code",
      "metadata": {
        "id": "64fzCfkbHlNO",
        "colab_type": "code",
        "colab": {
          "base_uri": "https://localhost:8080/",
          "height": 136
        },
        "outputId": "163c8e25-30d6-4b23-9c7a-f01061bc120f"
      },
      "source": [
        "import nltk\n",
        "nltk.download('stopwords')\n",
        "from nltk.corpus import stopwords\n",
        "nltk.download('punkt')\n",
        "nltk.download('averaged_perceptron_tagger')\n",
        "from nltk.tokenize import word_tokenize"
      ],
      "execution_count": 32,
      "outputs": [
        {
          "output_type": "stream",
          "text": [
            "[nltk_data] Downloading package stopwords to /root/nltk_data...\n",
            "[nltk_data]   Package stopwords is already up-to-date!\n",
            "[nltk_data] Downloading package punkt to /root/nltk_data...\n",
            "[nltk_data]   Unzipping tokenizers/punkt.zip.\n",
            "[nltk_data] Downloading package averaged_perceptron_tagger to\n",
            "[nltk_data]     /root/nltk_data...\n",
            "[nltk_data]   Unzipping taggers/averaged_perceptron_tagger.zip.\n"
          ],
          "name": "stdout"
        }
      ]
    },
    {
      "cell_type": "code",
      "metadata": {
        "id": "kiL_qFVRdQew",
        "colab_type": "code",
        "colab": {
          "base_uri": "https://localhost:8080/",
          "height": 359
        },
        "outputId": "85e3ad7a-8868-4e29-a20b-58b7e8734c0c"
      },
      "source": [
        "# initializing a new dataframe with only the title column for faster operation \n",
        "\n",
        "title_df = news_articles_df['title']\n",
        "title_df = title_df.to_frame()\n",
        "\n",
        "title_df.sample(10, random_state = 5)"
      ],
      "execution_count": 33,
      "outputs": [
        {
          "output_type": "execute_result",
          "data": {
            "text/html": [
              "<div>\n",
              "<style scoped>\n",
              "    .dataframe tbody tr th:only-of-type {\n",
              "        vertical-align: middle;\n",
              "    }\n",
              "\n",
              "    .dataframe tbody tr th {\n",
              "        vertical-align: top;\n",
              "    }\n",
              "\n",
              "    .dataframe thead th {\n",
              "        text-align: right;\n",
              "    }\n",
              "</style>\n",
              "<table border=\"1\" class=\"dataframe\">\n",
              "  <thead>\n",
              "    <tr style=\"text-align: right;\">\n",
              "      <th></th>\n",
              "      <th>title</th>\n",
              "    </tr>\n",
              "  </thead>\n",
              "  <tbody>\n",
              "    <tr>\n",
              "      <th>27</th>\n",
              "      <td>Inside Trump Defense Secretary Pick’s Efforts ...</td>\n",
              "    </tr>\n",
              "    <tr>\n",
              "      <th>1482</th>\n",
              "      <td>Trump May Give the Pentagon More Authority to ...</td>\n",
              "    </tr>\n",
              "    <tr>\n",
              "      <th>3021</th>\n",
              "      <td>Anton Yelchin, ‘Star Trek’ Actor, Dies at 27 -...</td>\n",
              "    </tr>\n",
              "    <tr>\n",
              "      <th>3867</th>\n",
              "      <td>Researchers Confront an Epidemic of Loneliness...</td>\n",
              "    </tr>\n",
              "    <tr>\n",
              "      <th>637</th>\n",
              "      <td>Sympathy for the Blue Devils? Maybe This Year ...</td>\n",
              "    </tr>\n",
              "    <tr>\n",
              "      <th>4191</th>\n",
              "      <td>Google, Lagging Amazon, Races Across the Thres...</td>\n",
              "    </tr>\n",
              "    <tr>\n",
              "      <th>3042</th>\n",
              "      <td>What J. Dennis Hastert, Ex-House Speaker, Will...</td>\n",
              "    </tr>\n",
              "    <tr>\n",
              "      <th>775</th>\n",
              "      <td>New England Patriots, Rex Tillerson: Your Wedn...</td>\n",
              "    </tr>\n",
              "    <tr>\n",
              "      <th>3767</th>\n",
              "      <td>Can the Old Masters Be Relevant Again? - The N...</td>\n",
              "    </tr>\n",
              "    <tr>\n",
              "      <th>3954</th>\n",
              "      <td>Value-Seekers Warm to a $450 Annual Credit Car...</td>\n",
              "    </tr>\n",
              "  </tbody>\n",
              "</table>\n",
              "</div>"
            ],
            "text/plain": [
              "                                                  title\n",
              "27    Inside Trump Defense Secretary Pick’s Efforts ...\n",
              "1482  Trump May Give the Pentagon More Authority to ...\n",
              "3021  Anton Yelchin, ‘Star Trek’ Actor, Dies at 27 -...\n",
              "3867  Researchers Confront an Epidemic of Loneliness...\n",
              "637   Sympathy for the Blue Devils? Maybe This Year ...\n",
              "4191  Google, Lagging Amazon, Races Across the Thres...\n",
              "3042  What J. Dennis Hastert, Ex-House Speaker, Will...\n",
              "775   New England Patriots, Rex Tillerson: Your Wedn...\n",
              "3767  Can the Old Masters Be Relevant Again? - The N...\n",
              "3954  Value-Seekers Warm to a $450 Annual Credit Car..."
            ]
          },
          "metadata": {
            "tags": []
          },
          "execution_count": 33
        }
      ]
    },
    {
      "cell_type": "code",
      "metadata": {
        "id": "W1c6BMvBHjLi",
        "colab_type": "code",
        "colab": {
          "base_uri": "https://localhost:8080/",
          "height": 359
        },
        "outputId": "51bb6d91-408a-42a3-b9ab-994aa64efffb"
      },
      "source": [
        "# Noise Cleaning - spacing, special characters, lowercasing \n",
        "\n",
        "import regex as re\n",
        "title_df['title'] = title_df['title'].str.lower()\n",
        "title_df['title'] = title_df['title'].apply(lambda x: re.sub(r'[^\\w\\d\\s\\']+', '', x))\n",
        "\n",
        "title_df.sample(10, random_state = 5)"
      ],
      "execution_count": 34,
      "outputs": [
        {
          "output_type": "execute_result",
          "data": {
            "text/html": [
              "<div>\n",
              "<style scoped>\n",
              "    .dataframe tbody tr th:only-of-type {\n",
              "        vertical-align: middle;\n",
              "    }\n",
              "\n",
              "    .dataframe tbody tr th {\n",
              "        vertical-align: top;\n",
              "    }\n",
              "\n",
              "    .dataframe thead th {\n",
              "        text-align: right;\n",
              "    }\n",
              "</style>\n",
              "<table border=\"1\" class=\"dataframe\">\n",
              "  <thead>\n",
              "    <tr style=\"text-align: right;\">\n",
              "      <th></th>\n",
              "      <th>title</th>\n",
              "    </tr>\n",
              "  </thead>\n",
              "  <tbody>\n",
              "    <tr>\n",
              "      <th>27</th>\n",
              "      <td>inside trump defense secretary picks efforts t...</td>\n",
              "    </tr>\n",
              "    <tr>\n",
              "      <th>1482</th>\n",
              "      <td>trump may give the pentagon more authority to ...</td>\n",
              "    </tr>\n",
              "    <tr>\n",
              "      <th>3021</th>\n",
              "      <td>anton yelchin star trek actor dies at 27  the ...</td>\n",
              "    </tr>\n",
              "    <tr>\n",
              "      <th>3867</th>\n",
              "      <td>researchers confront an epidemic of loneliness...</td>\n",
              "    </tr>\n",
              "    <tr>\n",
              "      <th>637</th>\n",
              "      <td>sympathy for the blue devils maybe this year  ...</td>\n",
              "    </tr>\n",
              "    <tr>\n",
              "      <th>4191</th>\n",
              "      <td>google lagging amazon races across the thresho...</td>\n",
              "    </tr>\n",
              "    <tr>\n",
              "      <th>3042</th>\n",
              "      <td>what j dennis hastert exhouse speaker will fac...</td>\n",
              "    </tr>\n",
              "    <tr>\n",
              "      <th>775</th>\n",
              "      <td>new england patriots rex tillerson your wednes...</td>\n",
              "    </tr>\n",
              "    <tr>\n",
              "      <th>3767</th>\n",
              "      <td>can the old masters be relevant again  the new...</td>\n",
              "    </tr>\n",
              "    <tr>\n",
              "      <th>3954</th>\n",
              "      <td>valueseekers warm to a 450 annual credit card ...</td>\n",
              "    </tr>\n",
              "  </tbody>\n",
              "</table>\n",
              "</div>"
            ],
            "text/plain": [
              "                                                  title\n",
              "27    inside trump defense secretary picks efforts t...\n",
              "1482  trump may give the pentagon more authority to ...\n",
              "3021  anton yelchin star trek actor dies at 27  the ...\n",
              "3867  researchers confront an epidemic of loneliness...\n",
              "637   sympathy for the blue devils maybe this year  ...\n",
              "4191  google lagging amazon races across the thresho...\n",
              "3042  what j dennis hastert exhouse speaker will fac...\n",
              "775   new england patriots rex tillerson your wednes...\n",
              "3767  can the old masters be relevant again  the new...\n",
              "3954  valueseekers warm to a 450 annual credit card ..."
            ]
          },
          "metadata": {
            "tags": []
          },
          "execution_count": 34
        }
      ]
    },
    {
      "cell_type": "code",
      "metadata": {
        "id": "iFxrhRaWH4D-",
        "colab_type": "code",
        "colab": {
          "base_uri": "https://localhost:8080/",
          "height": 512
        },
        "outputId": "c7c38a13-28b7-490b-ee71-1890cb8a746a"
      },
      "source": [
        "#tokenize\n",
        "title_df['tokenized_title'] = title_df['title'].apply(word_tokenize)\n",
        "title_df.sample(10, random_state = 5)"
      ],
      "execution_count": 35,
      "outputs": [
        {
          "output_type": "execute_result",
          "data": {
            "text/html": [
              "<div>\n",
              "<style scoped>\n",
              "    .dataframe tbody tr th:only-of-type {\n",
              "        vertical-align: middle;\n",
              "    }\n",
              "\n",
              "    .dataframe tbody tr th {\n",
              "        vertical-align: top;\n",
              "    }\n",
              "\n",
              "    .dataframe thead th {\n",
              "        text-align: right;\n",
              "    }\n",
              "</style>\n",
              "<table border=\"1\" class=\"dataframe\">\n",
              "  <thead>\n",
              "    <tr style=\"text-align: right;\">\n",
              "      <th></th>\n",
              "      <th>title</th>\n",
              "      <th>tokenized_title</th>\n",
              "    </tr>\n",
              "  </thead>\n",
              "  <tbody>\n",
              "    <tr>\n",
              "      <th>27</th>\n",
              "      <td>inside trump defense secretary picks efforts t...</td>\n",
              "      <td>[inside, trump, defense, secretary, picks, eff...</td>\n",
              "    </tr>\n",
              "    <tr>\n",
              "      <th>1482</th>\n",
              "      <td>trump may give the pentagon more authority to ...</td>\n",
              "      <td>[trump, may, give, the, pentagon, more, author...</td>\n",
              "    </tr>\n",
              "    <tr>\n",
              "      <th>3021</th>\n",
              "      <td>anton yelchin star trek actor dies at 27  the ...</td>\n",
              "      <td>[anton, yelchin, star, trek, actor, dies, at, ...</td>\n",
              "    </tr>\n",
              "    <tr>\n",
              "      <th>3867</th>\n",
              "      <td>researchers confront an epidemic of loneliness...</td>\n",
              "      <td>[researchers, confront, an, epidemic, of, lone...</td>\n",
              "    </tr>\n",
              "    <tr>\n",
              "      <th>637</th>\n",
              "      <td>sympathy for the blue devils maybe this year  ...</td>\n",
              "      <td>[sympathy, for, the, blue, devils, maybe, this...</td>\n",
              "    </tr>\n",
              "    <tr>\n",
              "      <th>4191</th>\n",
              "      <td>google lagging amazon races across the thresho...</td>\n",
              "      <td>[google, lagging, amazon, races, across, the, ...</td>\n",
              "    </tr>\n",
              "    <tr>\n",
              "      <th>3042</th>\n",
              "      <td>what j dennis hastert exhouse speaker will fac...</td>\n",
              "      <td>[what, j, dennis, hastert, exhouse, speaker, w...</td>\n",
              "    </tr>\n",
              "    <tr>\n",
              "      <th>775</th>\n",
              "      <td>new england patriots rex tillerson your wednes...</td>\n",
              "      <td>[new, england, patriots, rex, tillerson, your,...</td>\n",
              "    </tr>\n",
              "    <tr>\n",
              "      <th>3767</th>\n",
              "      <td>can the old masters be relevant again  the new...</td>\n",
              "      <td>[can, the, old, masters, be, relevant, again, ...</td>\n",
              "    </tr>\n",
              "    <tr>\n",
              "      <th>3954</th>\n",
              "      <td>valueseekers warm to a 450 annual credit card ...</td>\n",
              "      <td>[valueseekers, warm, to, a, 450, annual, credi...</td>\n",
              "    </tr>\n",
              "  </tbody>\n",
              "</table>\n",
              "</div>"
            ],
            "text/plain": [
              "                                                  title                                    tokenized_title\n",
              "27    inside trump defense secretary picks efforts t...  [inside, trump, defense, secretary, picks, eff...\n",
              "1482  trump may give the pentagon more authority to ...  [trump, may, give, the, pentagon, more, author...\n",
              "3021  anton yelchin star trek actor dies at 27  the ...  [anton, yelchin, star, trek, actor, dies, at, ...\n",
              "3867  researchers confront an epidemic of loneliness...  [researchers, confront, an, epidemic, of, lone...\n",
              "637   sympathy for the blue devils maybe this year  ...  [sympathy, for, the, blue, devils, maybe, this...\n",
              "4191  google lagging amazon races across the thresho...  [google, lagging, amazon, races, across, the, ...\n",
              "3042  what j dennis hastert exhouse speaker will fac...  [what, j, dennis, hastert, exhouse, speaker, w...\n",
              "775   new england patriots rex tillerson your wednes...  [new, england, patriots, rex, tillerson, your,...\n",
              "3767  can the old masters be relevant again  the new...  [can, the, old, masters, be, relevant, again, ...\n",
              "3954  valueseekers warm to a 450 annual credit card ...  [valueseekers, warm, to, a, 450, annual, credi..."
            ]
          },
          "metadata": {
            "tags": []
          },
          "execution_count": 35
        }
      ]
    },
    {
      "cell_type": "code",
      "metadata": {
        "id": "uCPxTehS9_0H",
        "colab_type": "code",
        "colab": {
          "base_uri": "https://localhost:8080/",
          "height": 592
        },
        "outputId": "b76481f1-8c0a-4b36-99d2-d0cb5f6d0c2f"
      },
      "source": [
        "#checking non stop word lists\n",
        "\n",
        "import seaborn as sns\n",
        "from collections import  Counter\n",
        "\n",
        "def plot_top_non_stopwords_barchart(text):\n",
        "    stop=set(stopwords.words('english'))\n",
        "    \n",
        "    new= text.str.split()\n",
        "    new=new.values.tolist()\n",
        "    corpus=[word for i in new for word in i]\n",
        "\n",
        "    counter=Counter(corpus)\n",
        "    most=counter.most_common()\n",
        "    x, y=[], []\n",
        "    for word,count in most[:30]:\n",
        "        if (word not in stop):\n",
        "            x.append(word)\n",
        "            y.append(count)\n",
        "    plt.figure(figsize=(10,10))\n",
        "    sns.barplot(x=y,y=x)\n",
        "\n",
        "plot_top_non_stopwords_barchart(title_df['title'])\n"
      ],
      "execution_count": 37,
      "outputs": [
        {
          "output_type": "display_data",
          "data": {
            "image/png": "[encoded data removed]",
            "text/plain": [
              "<Figure size 720x720 with 1 Axes>"
            ]
          },
          "metadata": {
            "tags": [],
            "needs_background": "light"
          }
        }
      ]
    },
    {
      "cell_type": "code",
      "metadata": {
        "id": "jvXAFx9w9_3b",
        "colab_type": "code",
        "colab": {}
      },
      "source": [
        "from operator import itemgetter \n",
        "import math\n",
        "\n",
        "def input_data(title_df):\n",
        "\n",
        "    #INPUT - batch of 10 titles\n",
        "    documents_batch1 = [x for x in title_df['title'].sample(10, random_state = 5) if str(x) != 'nan']\n",
        "    print(\"Number of title documents set 1:\",len(documents_batch1))\n",
        "\n",
        "\n",
        "    #INPUT - batch of 10 titles\n",
        "    documents_batch2 = [x for x in title_df['title'].sample(10, random_state = 9) if str(x) != 'nan']\n",
        "    print(\"Number of title documents set 2:\",len(documents_batch2))\n",
        "\n",
        "    return documents_batch1, documents_batch2\n",
        "\n",
        "\n",
        "def ConvertWV_To_AvgSentVec(VectorSet, ignore = []):\n",
        "    if len(ignore) == 0: \n",
        "        return np.mean(VectorSet, axis = 0)\n",
        "    else: \n",
        "        return np.dot(np.transpose(VectorSet), ignore)/sum(ignore)\n",
        "\n",
        "def SentToVec(sent, w2v_model, stop):\n",
        "    stopwords=stop.words('english')\n",
        "\n",
        "    frequent_words_title = ['brietbart', 'cnn','new', 'york', 'times']\n",
        "    stopwords.extend(frequent_words_title)\n",
        "    stopwords=set(stopwords)\n",
        "    #print(stopwords)\n",
        "\n",
        "    sent = sent.lower()\n",
        "    words_in_sent = [word for word in sent.split() if word not in stopwords if word.isalpha()]\n",
        "    VectorSet = []\n",
        "    for w in words_in_sent:\n",
        "        try:\n",
        "          word_vec=w2v_model[w]\n",
        "          VectorSet.append(word_vec)\n",
        "        except:\n",
        "          pass\n",
        "    return ConvertWV_To_AvgSentVec(VectorSet)\n",
        "\n",
        "\n",
        "def CosineSimilarity(sentVector1, sentVector2):\n",
        "    cosine_similarity = np.dot(sentVector1, sentVector2) / (np.linalg.norm(sentVector1) * np.linalg.norm(sentVector2))\n",
        "    try:\n",
        "        if math.isnan(cosine_similarity):\n",
        "          cosine_similarity=0\n",
        "    except:\n",
        "      cosine_similarity=0\n",
        "    return cosine_similarity\n",
        "\n",
        "\n",
        "def matrix_calc(title_df, w2v_model, stop):\n",
        "    count=0\n",
        "    matrix_final=list()\n",
        "    \n",
        "    news1, news2 = input_data(title_df)\n",
        "\n",
        "    for i in news1:\n",
        "        for j in news2:\n",
        "            sentVector1 = SentToVec(i, w2v_model, stop)\n",
        "            sentVector2 = SentToVec(j, w2v_model, stop)\n",
        "\n",
        "            sim_score  = CosineSimilarity(sentVector1, sentVector2)\n",
        "            #print(sim_score)\n",
        "            tup=(i,j,sim_score)\n",
        "            \n",
        "            matrix_final.append(tup)\n",
        "    print(\"\\n\")\n",
        "    print(\"Computed matrix length is = \",(len(matrix_final)))\n",
        "    \n",
        "    return matrix_final\n",
        "\n",
        "def sorted_matrix(title_df, w2v_model, stop):\n",
        "    sim_matrix = matrix_calc(title_df, w2v_model, stop)\n",
        "    \n",
        "    sort_matrix=sorted(sim_matrix, key=lambda x: x[2], reverse=True)\n",
        "    print(\"Sorted matrix length is = \",(len(sort_matrix)))\n",
        "    \n",
        "    # with open('word2vec-news-sim.csv', \"w\") as the_file:\n",
        "    #     csv.register_dialect(\"custom\", delimiter=\",\", skipinitialspace=True)\n",
        "    #     writer = csv.writer(the_file, dialect=\"custom\")\n",
        "    #     writer.writerow(['news_content1','news_content2','Similarity_Score'])\n",
        "    #     for tup in sort_matrix:\n",
        "    #         writer.writerow(tup)\n",
        "    # print(\"Saved result csv file\")\n",
        "    \n",
        "    return sim_matrix\n",
        "\n",
        "def main(title_df, w2v_model, stop):\n",
        "    sim_matrix = sorted_matrix(title_df, w2v_model, stop)\n",
        "    \n",
        "    max_score = max(sim_matrix, key = itemgetter(2))\n",
        "    \n",
        "    print(\"\\n\")\n",
        "    print(f\"Max word2vec similarity score = {max_score[2]}\")\n",
        "    print(f\"News text1 is: {max_score[0]}\")\n",
        "    print(f\"News text2 is: {max_score[1]}\")\n",
        "    \n",
        "    min_score = min(sim_matrix, key = itemgetter(2))\n",
        "\n",
        "    print(\"\\n\")\n",
        "    print(f\"Min word2vec similarity score = {min_score[2]}\")\n",
        "    print(f\"News title1 is: {min_score[0]}\")\n",
        "    print(f\"News title2 is: {min_score[1]}\")\n",
        "    "
      ],
      "execution_count": 38,
      "outputs": []
    },
    {
      "cell_type": "code",
      "metadata": {
        "id": "Tqi5CnPJ9_7g",
        "colab_type": "code",
        "colab": {
          "base_uri": "https://localhost:8080/",
          "height": 309
        },
        "outputId": "c8623e5c-3edd-4848-a6c5-4b70bf8c85c8"
      },
      "source": [
        "main(title_df, w2v_model, stopwords)"
      ],
      "execution_count": 40,
      "outputs": [
        {
          "output_type": "stream",
          "text": [
            "Number of title documents set 1: 10\n",
            "Number of title documents set 2: 10\n",
            "\n",
            "\n",
            "Computed matrix length is =  100\n",
            "Sorted matrix length is =  100\n",
            "\n",
            "\n",
            "Max word2vec similarity score = 0.7456521987915039\n",
            "News text1 is: new england patriots rex tillerson your wednesday evening briefing  the new york times\n",
            "News text2 is: mexico chinese new year your thursday evening briefing  the new york times\n",
            "\n",
            "\n",
            "Min word2vec similarity score = 0.0538356751203537\n",
            "News title1 is: anton yelchin star trek actor dies at 27  the new york times\n",
            "News title2 is: turmoil at the national security council from the top down  the new york times\n"
          ],
          "name": "stdout"
        }
      ]
    },
    {
      "cell_type": "markdown",
      "metadata": {
        "id": "wjhEOAD2lDzN",
        "colab_type": "text"
      },
      "source": [
        "### Let's visualize similar words using t-SNE from our kaggle dataset"
      ]
    },
    {
      "cell_type": "code",
      "metadata": {
        "id": "Btlxm6lzlDPf",
        "colab_type": "code",
        "colab": {
          "base_uri": "https://localhost:8080/",
          "height": 275
        },
        "outputId": "1dc91683-2fe5-4730-e6b4-e63a7311fcc2"
      },
      "source": [
        "similar_words = {search_term: [item[0] for item in w2v_model.most_similar([search_term], topn=5)]\n",
        "                  for search_term in ['campaign', 'funds', 'clinton','donald','election','gunman']}\n",
        "pprint.pprint(similar_words)"
      ],
      "execution_count": 41,
      "outputs": [
        {
          "output_type": "stream",
          "text": [
            "{'campaign': ['campaigns', 'cam_paign', 'campagin', 'campaing', 'camapign'],\n",
            " 'clinton': ['obama', 'mccain', 'hillary', 'barack_obama', 'reagan'],\n",
            " 'donald': [\"o'brien\", 'gibbs', 'nigel', 'bennett', 'dave'],\n",
            " 'election': ['elections',\n",
            "              'Election',\n",
            "              'electoral',\n",
            "              'reelection',\n",
            "              'parliamentary_elections'],\n",
            " 'funds': ['fund', 'monies', 'Funds', 'money', 'funding'],\n",
            " 'gunman': ['lone_gunman',\n",
            "            'assailant',\n",
            "            'masked_gunman',\n",
            "            'gunmen',\n",
            "            'shooting_rampage']}\n"
          ],
          "name": "stdout"
        }
      ]
    },
    {
      "cell_type": "code",
      "metadata": {
        "id": "zBF3L26olDS4",
        "colab_type": "code",
        "colab": {
          "base_uri": "https://localhost:8080/",
          "height": 483
        },
        "outputId": "4db7356a-26be-4dd7-ae2f-77e2bff26b0e"
      },
      "source": [
        "from sklearn.manifold import TSNE\n",
        "\n",
        "words = sum([[k] + v for k, v in similar_words.items()], [])\n",
        "wvs = w2v_model.wv[words]\n",
        "\n",
        "tsne = TSNE(n_components=2, random_state=0, n_iter=10000, perplexity=2)\n",
        "np.set_printoptions(suppress=True)\n",
        "T = tsne.fit_transform(wvs)\n",
        "labels = words\n",
        "\n",
        "plt.figure(figsize=(14, 8))\n",
        "plt.scatter(T[:, 0], T[:, 1], c='blue', edgecolors='b')\n",
        "for label, x, y in zip(labels, T[:, 0], T[:, 1]):\n",
        "    plt.annotate(label, xy=(x+1, y+1), xytext=(0, 0), textcoords='offset points')"
      ],
      "execution_count": null,
      "outputs": [
        {
          "output_type": "display_data",
          "data": {
            "image/png": "[encoded data removed]",
            "text/plain": [
              "<Figure size 1008x576 with 1 Axes>"
            ]
          },
          "metadata": {
            "tags": [],
            "needs_background": "light"
          }
        }
      ]
    },
    {
      "cell_type": "markdown",
      "metadata": {
        "id": "yKr1J5WNgIS-",
        "colab_type": "text"
      },
      "source": [
        "### **Applying GloVe features using spaCy**"
      ]
    },
    {
      "cell_type": "code",
      "metadata": {
        "id": "918M1X6G9_-r",
        "colab_type": "code",
        "colab": {
          "base_uri": "https://localhost:8080/",
          "height": 921
        },
        "outputId": "8d913d29-f696-42db-b9f8-75504d1a1434"
      },
      "source": [
        "!pip install spacy\n",
        "#!python -m spacy download en_core_web_sm\n",
        "\n",
        "# Download the following language model and store it in disk\n",
        "#https://github.com/explosion/spacy-models/releases/tag/en_vectors_web_lg-2.0.0\n",
        "\n",
        "!python -m spacy download en_vectors_web_lg\n"
      ],
      "execution_count": 42,
      "outputs": [
        {
          "output_type": "stream",
          "text": [
            "Requirement already satisfied: spacy in /usr/local/lib/python3.6/dist-packages (2.2.4)\n",
            "Requirement already satisfied: setuptools in /usr/local/lib/python3.6/dist-packages (from spacy) (49.2.0)\n",
            "Requirement already satisfied: requests<3.0.0,>=2.13.0 in /usr/local/lib/python3.6/dist-packages (from spacy) (2.23.0)\n",
            "Requirement already satisfied: preshed<3.1.0,>=3.0.2 in /usr/local/lib/python3.6/dist-packages (from spacy) (3.0.2)\n",
            "Requirement already satisfied: blis<0.5.0,>=0.4.0 in /usr/local/lib/python3.6/dist-packages (from spacy) (0.4.1)\n",
            "Requirement already satisfied: wasabi<1.1.0,>=0.4.0 in /usr/local/lib/python3.6/dist-packages (from spacy) (0.7.1)\n",
            "Requirement already satisfied: numpy>=1.15.0 in /usr/local/lib/python3.6/dist-packages (from spacy) (1.18.5)\n",
            "Requirement already satisfied: murmurhash<1.1.0,>=0.28.0 in /usr/local/lib/python3.6/dist-packages (from spacy) (1.0.2)\n",
            "Requirement already satisfied: srsly<1.1.0,>=1.0.2 in /usr/local/lib/python3.6/dist-packages (from spacy) (1.0.2)\n",
            "Requirement already satisfied: plac<1.2.0,>=0.9.6 in /usr/local/lib/python3.6/dist-packages (from spacy) (1.1.3)\n",
            "Requirement already satisfied: cymem<2.1.0,>=2.0.2 in /usr/local/lib/python3.6/dist-packages (from spacy) (2.0.3)\n",
            "Requirement already satisfied: tqdm<5.0.0,>=4.38.0 in /usr/local/lib/python3.6/dist-packages (from spacy) (4.41.1)\n",
            "Requirement already satisfied: thinc==7.4.0 in /usr/local/lib/python3.6/dist-packages (from spacy) (7.4.0)\n",
            "Requirement already satisfied: catalogue<1.1.0,>=0.0.7 in /usr/local/lib/python3.6/dist-packages (from spacy) (1.0.0)\n",
            "Requirement already satisfied: idna<3,>=2.5 in /usr/local/lib/python3.6/dist-packages (from requests<3.0.0,>=2.13.0->spacy) (2.10)\n",
            "Requirement already satisfied: chardet<4,>=3.0.2 in /usr/local/lib/python3.6/dist-packages (from requests<3.0.0,>=2.13.0->spacy) (3.0.4)\n",
            "Requirement already satisfied: urllib3!=1.25.0,!=1.25.1,<1.26,>=1.21.1 in /usr/local/lib/python3.6/dist-packages (from requests<3.0.0,>=2.13.0->spacy) (1.24.3)\n",
            "Requirement already satisfied: certifi>=2017.4.17 in /usr/local/lib/python3.6/dist-packages (from requests<3.0.0,>=2.13.0->spacy) (2020.6.20)\n",
            "Requirement already satisfied: importlib-metadata>=0.20; python_version < \"3.8\" in /usr/local/lib/python3.6/dist-packages (from catalogue<1.1.0,>=0.0.7->spacy) (1.7.0)\n",
            "Requirement already satisfied: zipp>=0.5 in /usr/local/lib/python3.6/dist-packages (from importlib-metadata>=0.20; python_version < \"3.8\"->catalogue<1.1.0,>=0.0.7->spacy) (3.1.0)\n",
            "Collecting en_vectors_web_lg==2.1.0\n",
            "\u001b[?25l  Downloading https://github.com/explosion/spacy-models/releases/download/en_vectors_web_lg-2.1.0/en_vectors_web_lg-2.1.0.tar.gz (661.8MB)\n",
            "\u001b[K     |████████████████████████████████| 661.8MB 1.2MB/s \n",
            "\u001b[?25hRequirement already satisfied: spacy<3.0.0,>=2.1.0 in /usr/local/lib/python3.6/dist-packages (from en_vectors_web_lg==2.1.0) (2.2.4)\n",
            "Requirement already satisfied: catalogue<1.1.0,>=0.0.7 in /usr/local/lib/python3.6/dist-packages (from spacy<3.0.0,>=2.1.0->en_vectors_web_lg==2.1.0) (1.0.0)\n",
            "Requirement already satisfied: setuptools in /usr/local/lib/python3.6/dist-packages (from spacy<3.0.0,>=2.1.0->en_vectors_web_lg==2.1.0) (49.2.0)\n",
            "Requirement already satisfied: thinc==7.4.0 in /usr/local/lib/python3.6/dist-packages (from spacy<3.0.0,>=2.1.0->en_vectors_web_lg==2.1.0) (7.4.0)\n",
            "Requirement already satisfied: requests<3.0.0,>=2.13.0 in /usr/local/lib/python3.6/dist-packages (from spacy<3.0.0,>=2.1.0->en_vectors_web_lg==2.1.0) (2.23.0)\n",
            "Requirement already satisfied: wasabi<1.1.0,>=0.4.0 in /usr/local/lib/python3.6/dist-packages (from spacy<3.0.0,>=2.1.0->en_vectors_web_lg==2.1.0) (0.7.1)\n",
            "Requirement already satisfied: plac<1.2.0,>=0.9.6 in /usr/local/lib/python3.6/dist-packages (from spacy<3.0.0,>=2.1.0->en_vectors_web_lg==2.1.0) (1.1.3)\n",
            "Requirement already satisfied: preshed<3.1.0,>=3.0.2 in /usr/local/lib/python3.6/dist-packages (from spacy<3.0.0,>=2.1.0->en_vectors_web_lg==2.1.0) (3.0.2)\n",
            "Requirement already satisfied: numpy>=1.15.0 in /usr/local/lib/python3.6/dist-packages (from spacy<3.0.0,>=2.1.0->en_vectors_web_lg==2.1.0) (1.18.5)\n",
            "Requirement already satisfied: cymem<2.1.0,>=2.0.2 in /usr/local/lib/python3.6/dist-packages (from spacy<3.0.0,>=2.1.0->en_vectors_web_lg==2.1.0) (2.0.3)\n",
            "Requirement already satisfied: tqdm<5.0.0,>=4.38.0 in /usr/local/lib/python3.6/dist-packages (from spacy<3.0.0,>=2.1.0->en_vectors_web_lg==2.1.0) (4.41.1)\n",
            "Requirement already satisfied: srsly<1.1.0,>=1.0.2 in /usr/local/lib/python3.6/dist-packages (from spacy<3.0.0,>=2.1.0->en_vectors_web_lg==2.1.0) (1.0.2)\n",
            "Requirement already satisfied: murmurhash<1.1.0,>=0.28.0 in /usr/local/lib/python3.6/dist-packages (from spacy<3.0.0,>=2.1.0->en_vectors_web_lg==2.1.0) (1.0.2)\n",
            "Requirement already satisfied: blis<0.5.0,>=0.4.0 in /usr/local/lib/python3.6/dist-packages (from spacy<3.0.0,>=2.1.0->en_vectors_web_lg==2.1.0) (0.4.1)\n",
            "Requirement already satisfied: importlib-metadata>=0.20; python_version < \"3.8\" in /usr/local/lib/python3.6/dist-packages (from catalogue<1.1.0,>=0.0.7->spacy<3.0.0,>=2.1.0->en_vectors_web_lg==2.1.0) (1.7.0)\n",
            "Requirement already satisfied: certifi>=2017.4.17 in /usr/local/lib/python3.6/dist-packages (from requests<3.0.0,>=2.13.0->spacy<3.0.0,>=2.1.0->en_vectors_web_lg==2.1.0) (2020.6.20)\n",
            "Requirement already satisfied: idna<3,>=2.5 in /usr/local/lib/python3.6/dist-packages (from requests<3.0.0,>=2.13.0->spacy<3.0.0,>=2.1.0->en_vectors_web_lg==2.1.0) (2.10)\n",
            "Requirement already satisfied: chardet<4,>=3.0.2 in /usr/local/lib/python3.6/dist-packages (from requests<3.0.0,>=2.13.0->spacy<3.0.0,>=2.1.0->en_vectors_web_lg==2.1.0) (3.0.4)\n",
            "Requirement already satisfied: urllib3!=1.25.0,!=1.25.1,<1.26,>=1.21.1 in /usr/local/lib/python3.6/dist-packages (from requests<3.0.0,>=2.13.0->spacy<3.0.0,>=2.1.0->en_vectors_web_lg==2.1.0) (1.24.3)\n",
            "Requirement already satisfied: zipp>=0.5 in /usr/local/lib/python3.6/dist-packages (from importlib-metadata>=0.20; python_version < \"3.8\"->catalogue<1.1.0,>=0.0.7->spacy<3.0.0,>=2.1.0->en_vectors_web_lg==2.1.0) (3.1.0)\n",
            "Building wheels for collected packages: en-vectors-web-lg\n",
            "  Building wheel for en-vectors-web-lg (setup.py) ... \u001b[?25l\u001b[?25hdone\n",
            "  Created wheel for en-vectors-web-lg: filename=en_vectors_web_lg-2.1.0-cp36-none-any.whl size=663461747 sha256=06b9cc75580f5fecbcfbebfffd160f5f4b9c9a476a01e1d9b17416aaea442d3c\n",
            "  Stored in directory: /tmp/pip-ephem-wheel-cache-8cpc81_8/wheels/ce/3e/83/59647d0b4584003cce18fb68ecda2866e7c7b2722c3ecaddaf\n",
            "Successfully built en-vectors-web-lg\n",
            "Installing collected packages: en-vectors-web-lg\n",
            "Successfully installed en-vectors-web-lg-2.1.0\n",
            "\u001b[38;5;2m✔ Download and installation successful\u001b[0m\n",
            "You can now load the model via spacy.load('en_vectors_web_lg')\n"
          ],
          "name": "stdout"
        }
      ]
    },
    {
      "cell_type": "markdown",
      "metadata": {
        "id": "5ifCtda4jamh",
        "colab_type": "text"
      },
      "source": [
        "After loading the  spacy vector model, you might need to restart colab runtime, other wise it will show model not found. To do that:\n",
        "\n",
        "**Click on \"Runtime\" on top -- \"Restart Runtime\" -- Then run the below cell**"
      ]
    },
    {
      "cell_type": "code",
      "metadata": {
        "id": "2DRsKCMZPdaY",
        "colab_type": "code",
        "colab": {
          "base_uri": "https://localhost:8080/",
          "height": 34
        },
        "outputId": "86cf7b83-91e4-44e6-a7c1-b43137fdc9ce"
      },
      "source": [
        "import spacy\n",
        "nlp = spacy.load('en_vectors_web_lg')\n",
        "nlp"
      ],
      "execution_count": 1,
      "outputs": [
        {
          "output_type": "execute_result",
          "data": {
            "text/plain": [
              "<spacy.lang.en.English at 0x7fad43303fd0>"
            ]
          },
          "metadata": {
            "tags": []
          },
          "execution_count": 1
        }
      ]
    },
    {
      "cell_type": "code",
      "metadata": {
        "id": "DE3c0-xZPdd1",
        "colab_type": "code",
        "colab": {
          "base_uri": "https://localhost:8080/",
          "height": 34
        },
        "outputId": "b9966122-732a-49d4-946a-71b8c131950e"
      },
      "source": [
        "total_vectors = len(nlp.vocab.vectors)\n",
        "print('Total word vectors:', total_vectors)"
      ],
      "execution_count": 6,
      "outputs": [
        {
          "output_type": "stream",
          "text": [
            "Total word vectors: 1070971\n"
          ],
          "name": "stdout"
        }
      ]
    },
    {
      "cell_type": "code",
      "metadata": {
        "id": "8tFa1bH3qwS7",
        "colab_type": "code",
        "colab": {
          "base_uri": "https://localhost:8080/",
          "height": 283
        },
        "outputId": "78bfc9c2-b375-41e4-91b3-b0a21e4f10a2"
      },
      "source": [
        "unique_words = list(set([word for sublist in [doc.split() for doc in title_df['title'][:100]] for word in sublist]))\n",
        "\n",
        "word_glove_vectors = np.array([nlp(word).vector for word in unique_words])\n",
        "pd.DataFrame(word_glove_vectors, index=unique_words)"
      ],
      "execution_count": 8,
      "outputs": [
        {
          "output_type": "error",
          "ename": "NameError",
          "evalue": "ignored",
          "traceback": [
            "\u001b[0;31m---------------------------------------------------------------------------\u001b[0m",
            "\u001b[0;31mNameError\u001b[0m                                 Traceback (most recent call last)",
            "\u001b[0;32m<ipython-input-8-36705eae100c>\u001b[0m in \u001b[0;36m<module>\u001b[0;34m()\u001b[0m\n\u001b[0;32m----> 1\u001b[0;31m \u001b[0munique_words\u001b[0m \u001b[0;34m=\u001b[0m \u001b[0mlist\u001b[0m\u001b[0;34m(\u001b[0m\u001b[0mset\u001b[0m\u001b[0;34m(\u001b[0m\u001b[0;34m[\u001b[0m\u001b[0mword\u001b[0m \u001b[0;32mfor\u001b[0m \u001b[0msublist\u001b[0m \u001b[0;32min\u001b[0m \u001b[0;34m[\u001b[0m\u001b[0mdoc\u001b[0m\u001b[0;34m.\u001b[0m\u001b[0msplit\u001b[0m\u001b[0;34m(\u001b[0m\u001b[0;34m)\u001b[0m \u001b[0;32mfor\u001b[0m \u001b[0mdoc\u001b[0m \u001b[0;32min\u001b[0m \u001b[0mtitle_df\u001b[0m\u001b[0;34m[\u001b[0m\u001b[0;34m'title'\u001b[0m\u001b[0;34m]\u001b[0m\u001b[0;34m[\u001b[0m\u001b[0;34m:\u001b[0m\u001b[0;36m100\u001b[0m\u001b[0;34m]\u001b[0m\u001b[0;34m]\u001b[0m \u001b[0;32mfor\u001b[0m \u001b[0mword\u001b[0m \u001b[0;32min\u001b[0m \u001b[0msublist\u001b[0m\u001b[0;34m]\u001b[0m\u001b[0;34m)\u001b[0m\u001b[0;34m)\u001b[0m\u001b[0;34m\u001b[0m\u001b[0;34m\u001b[0m\u001b[0m\n\u001b[0m\u001b[1;32m      2\u001b[0m \u001b[0;34m\u001b[0m\u001b[0m\n\u001b[1;32m      3\u001b[0m \u001b[0mword_glove_vectors\u001b[0m \u001b[0;34m=\u001b[0m \u001b[0mnp\u001b[0m\u001b[0;34m.\u001b[0m\u001b[0marray\u001b[0m\u001b[0;34m(\u001b[0m\u001b[0;34m[\u001b[0m\u001b[0mnlp\u001b[0m\u001b[0;34m(\u001b[0m\u001b[0mword\u001b[0m\u001b[0;34m)\u001b[0m\u001b[0;34m.\u001b[0m\u001b[0mvector\u001b[0m \u001b[0;32mfor\u001b[0m \u001b[0mword\u001b[0m \u001b[0;32min\u001b[0m \u001b[0munique_words\u001b[0m\u001b[0;34m]\u001b[0m\u001b[0;34m)\u001b[0m\u001b[0;34m\u001b[0m\u001b[0;34m\u001b[0m\u001b[0m\n\u001b[1;32m      4\u001b[0m \u001b[0mpd\u001b[0m\u001b[0;34m.\u001b[0m\u001b[0mDataFrame\u001b[0m\u001b[0;34m(\u001b[0m\u001b[0mword_glove_vectors\u001b[0m\u001b[0;34m,\u001b[0m \u001b[0mindex\u001b[0m\u001b[0;34m=\u001b[0m\u001b[0munique_words\u001b[0m\u001b[0;34m)\u001b[0m\u001b[0;34m\u001b[0m\u001b[0;34m\u001b[0m\u001b[0m\n",
            "\u001b[0;31mNameError\u001b[0m: name 'title_df' is not defined"
          ]
        }
      ]
    },
    {
      "cell_type": "code",
      "metadata": {
        "id": "1PH_Ia5EkA0n",
        "colab_type": "code",
        "colab": {
          "base_uri": "https://localhost:8080/",
          "height": 232
        },
        "outputId": "b7999dd2-7be6-4f21-cbd3-deed43f59fd6"
      },
      "source": [
        "from sklearn.manifold import TSNE\n",
        "\n",
        "tsne = TSNE(n_components=2, random_state=0, n_iter=5000, perplexity=3)\n",
        "np.set_printoptions(suppress=True)\n",
        "T = tsne.fit_transform(word_glove_vectors)\n",
        "labels = unique_words\n",
        "\n",
        "plt.figure(figsize=(20, 12))\n",
        "plt.scatter(T[:, 0], T[:, 1], c='blue', edgecolors='b')\n",
        "for label, x, y in zip(labels, T[:, 0], T[:, 1]):\n",
        "    plt.annotate(label, xy=(x+1, y+1), xytext=(0, 0), textcoords='offset points')"
      ],
      "execution_count": 2,
      "outputs": [
        {
          "output_type": "error",
          "ename": "NameError",
          "evalue": "ignored",
          "traceback": [
            "\u001b[0;31m---------------------------------------------------------------------------\u001b[0m",
            "\u001b[0;31mNameError\u001b[0m                                 Traceback (most recent call last)",
            "\u001b[0;32m<ipython-input-2-16a6e0840836>\u001b[0m in \u001b[0;36m<module>\u001b[0;34m()\u001b[0m\n\u001b[1;32m      2\u001b[0m \u001b[0;34m\u001b[0m\u001b[0m\n\u001b[1;32m      3\u001b[0m \u001b[0mtsne\u001b[0m \u001b[0;34m=\u001b[0m \u001b[0mTSNE\u001b[0m\u001b[0;34m(\u001b[0m\u001b[0mn_components\u001b[0m\u001b[0;34m=\u001b[0m\u001b[0;36m2\u001b[0m\u001b[0;34m,\u001b[0m \u001b[0mrandom_state\u001b[0m\u001b[0;34m=\u001b[0m\u001b[0;36m0\u001b[0m\u001b[0;34m,\u001b[0m \u001b[0mn_iter\u001b[0m\u001b[0;34m=\u001b[0m\u001b[0;36m5000\u001b[0m\u001b[0;34m,\u001b[0m \u001b[0mperplexity\u001b[0m\u001b[0;34m=\u001b[0m\u001b[0;36m3\u001b[0m\u001b[0;34m)\u001b[0m\u001b[0;34m\u001b[0m\u001b[0;34m\u001b[0m\u001b[0m\n\u001b[0;32m----> 4\u001b[0;31m \u001b[0mnp\u001b[0m\u001b[0;34m.\u001b[0m\u001b[0mset_printoptions\u001b[0m\u001b[0;34m(\u001b[0m\u001b[0msuppress\u001b[0m\u001b[0;34m=\u001b[0m\u001b[0;32mTrue\u001b[0m\u001b[0;34m)\u001b[0m\u001b[0;34m\u001b[0m\u001b[0;34m\u001b[0m\u001b[0m\n\u001b[0m\u001b[1;32m      5\u001b[0m \u001b[0mT\u001b[0m \u001b[0;34m=\u001b[0m \u001b[0mtsne\u001b[0m\u001b[0;34m.\u001b[0m\u001b[0mfit_transform\u001b[0m\u001b[0;34m(\u001b[0m\u001b[0mword_glove_vectors\u001b[0m\u001b[0;34m)\u001b[0m\u001b[0;34m\u001b[0m\u001b[0;34m\u001b[0m\u001b[0m\n\u001b[1;32m      6\u001b[0m \u001b[0mlabels\u001b[0m \u001b[0;34m=\u001b[0m \u001b[0munique_words\u001b[0m\u001b[0;34m\u001b[0m\u001b[0;34m\u001b[0m\u001b[0m\n",
            "\u001b[0;31mNameError\u001b[0m: name 'np' is not defined"
          ]
        }
      ]
    },
    {
      "cell_type": "code",
      "metadata": {
        "id": "ZMxFZAKckA3I",
        "colab_type": "code",
        "colab": {
          "base_uri": "https://localhost:8080/",
          "height": 419
        },
        "outputId": "91c68431-ab87-4489-a752-a3a8ccbc4476"
      },
      "source": [
        "from sklearn.cluster import KMeans\n",
        "\n",
        "doc_glove_vectors = np.array([nlp(str(doc)).vector for doc in title_df['title'][:100]])\n",
        "\n",
        "km = KMeans(n_clusters=3, random_state=0)\n",
        "km.fit_transform(doc_glove_vectors)\n",
        "cluster_labels = km.labels_\n",
        "cluster_labels = pd.DataFrame(cluster_labels, columns=['ClusterLabel'])\n",
        "pd.concat([title_df['title'][:100], cluster_labels], axis=1)"
      ],
      "execution_count": null,
      "outputs": [
        {
          "output_type": "execute_result",
          "data": {
            "text/html": [
              "<div>\n",
              "<style scoped>\n",
              "    .dataframe tbody tr th:only-of-type {\n",
              "        vertical-align: middle;\n",
              "    }\n",
              "\n",
              "    .dataframe tbody tr th {\n",
              "        vertical-align: top;\n",
              "    }\n",
              "\n",
              "    .dataframe thead th {\n",
              "        text-align: right;\n",
              "    }\n",
              "</style>\n",
              "<table border=\"1\" class=\"dataframe\">\n",
              "  <thead>\n",
              "    <tr style=\"text-align: right;\">\n",
              "      <th></th>\n",
              "      <th>title</th>\n",
              "      <th>ClusterLabel</th>\n",
              "    </tr>\n",
              "  </thead>\n",
              "  <tbody>\n",
              "    <tr>\n",
              "      <th>0</th>\n",
              "      <td>house republicans fret about winning their hea...</td>\n",
              "      <td>1</td>\n",
              "    </tr>\n",
              "    <tr>\n",
              "      <th>1</th>\n",
              "      <td>rift between officers and residents as killing...</td>\n",
              "      <td>1</td>\n",
              "    </tr>\n",
              "    <tr>\n",
              "      <th>2</th>\n",
              "      <td>tyrus wong bambi artist thwarted by racial bia...</td>\n",
              "      <td>0</td>\n",
              "    </tr>\n",
              "    <tr>\n",
              "      <th>3</th>\n",
              "      <td>among deaths in 2016 a heavy toll in pop music...</td>\n",
              "      <td>2</td>\n",
              "    </tr>\n",
              "    <tr>\n",
              "      <th>4</th>\n",
              "      <td>kim jongun says north korea is preparing to te...</td>\n",
              "      <td>0</td>\n",
              "    </tr>\n",
              "    <tr>\n",
              "      <th>...</th>\n",
              "      <td>...</td>\n",
              "      <td>...</td>\n",
              "    </tr>\n",
              "    <tr>\n",
              "      <th>95</th>\n",
              "      <td>corzine reaches 5 million settlement with regu...</td>\n",
              "      <td>1</td>\n",
              "    </tr>\n",
              "    <tr>\n",
              "      <th>96</th>\n",
              "      <td>sears agrees to sell craftsman to stanley blac...</td>\n",
              "      <td>0</td>\n",
              "    </tr>\n",
              "    <tr>\n",
              "      <th>97</th>\n",
              "      <td>lirr train that crashed was going over twice s...</td>\n",
              "      <td>2</td>\n",
              "    </tr>\n",
              "    <tr>\n",
              "      <th>98</th>\n",
              "      <td>record 2016 for us auto industry long road bac...</td>\n",
              "      <td>2</td>\n",
              "    </tr>\n",
              "    <tr>\n",
              "      <th>99</th>\n",
              "      <td>macys will cut 10000 jobs after poor holiday s...</td>\n",
              "      <td>2</td>\n",
              "    </tr>\n",
              "  </tbody>\n",
              "</table>\n",
              "<p>100 rows × 2 columns</p>\n",
              "</div>"
            ],
            "text/plain": [
              "                                                title  ClusterLabel\n",
              "0   house republicans fret about winning their hea...             1\n",
              "1   rift between officers and residents as killing...             1\n",
              "2   tyrus wong bambi artist thwarted by racial bia...             0\n",
              "3   among deaths in 2016 a heavy toll in pop music...             2\n",
              "4   kim jongun says north korea is preparing to te...             0\n",
              "..                                                ...           ...\n",
              "95  corzine reaches 5 million settlement with regu...             1\n",
              "96  sears agrees to sell craftsman to stanley blac...             0\n",
              "97  lirr train that crashed was going over twice s...             2\n",
              "98  record 2016 for us auto industry long road bac...             2\n",
              "99  macys will cut 10000 jobs after poor holiday s...             2\n",
              "\n",
              "[100 rows x 2 columns]"
            ]
          },
          "metadata": {
            "tags": []
          },
          "execution_count": 24
        }
      ]
    },
    {
      "cell_type": "markdown",
      "metadata": {
        "id": "iI3rU1ChXXT2",
        "colab_type": "text"
      },
      "source": [
        "### References"
      ]
    },
    {
      "cell_type": "markdown",
      "metadata": {
        "id": "FgthFqHcXals",
        "colab_type": "text"
      },
      "source": [
        "1. https://towardsdatascience.com/understanding-feature-engineering-part-4-deep-learning-methods-for-text-data-96c44370bbfa\n",
        "2. https://radimrehurek.com/gensim/auto_examples/tutorials/run_word2vec.html#sphx-glr-auto-examples-tutorials-run-word2vec-py\n",
        "3. https://radimrehurek.com/gensim/auto_examples/core/run_similarity_queries.html#sphx-glr-auto-examples-core-run-similarity-queries-py\n",
        "4. https://arxiv.org/pdf/1610.08229.pdf\n",
        "5. https://towardsdatascience.com/google-news-and-leo-tolstoy-visualizing-word2vec-word-embeddings-with-t-sne-11558d8bd4d\n",
        "6. https://towardsdatascience.com/a-beginners-guide-to-word-embedding-with-gensim-word2vec-model-5970fa56cc92\n",
        "7. https://towardsdatascience.com/detecting-document-similarity-with-doc2vec-f8289a9a7db7\n",
        "8. https://radimrehurek.com/gensim/auto_examples/howtos/run_doc2vec_imdb.html#sphx-glr-auto-examples-howtos-run-doc2vec-imdb-py\n",
        "9. http://projector.tensorflow.org/"
      ]
    },
    {
      "cell_type": "code",
      "metadata": {
        "id": "vfo-oj5GX_Go",
        "colab_type": "code",
        "colab": {}
      },
      "source": [
        ""
      ],
      "execution_count": null,
      "outputs": []
    }
  ]
}